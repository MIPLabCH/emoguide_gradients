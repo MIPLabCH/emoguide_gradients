{
 "cells": [
  {
   "cell_type": "code",
   "execution_count": 1,
   "metadata": {},
   "outputs": [],
   "source": [
    "from src import *"
   ]
  },
  {
   "cell_type": "markdown",
   "metadata": {},
   "source": [
    "## Table of Contents\n",
    "- [TODOOOOOO NOT DONE YET](#comparison)\n",
    "THIS IS AN IDEA TO DO BEFORE PRESENTATION"
   ]
  },
  {
   "cell_type": "markdown",
   "metadata": {},
   "source": [
    "<a class=\"anchor\" id=\"comparison\"></a>\n",
    "### TODOOOOOO NOT DONE YET"
   ]
  },
  {
   "cell_type": "markdown",
   "metadata": {},
   "source": [
    "We have choices to either compute correlation between subjects and aggregated emotions or group level and aggregated emotions. We as well introduce other movies for the same subject in order to do permutation testing."
   ]
  },
  {
   "cell_type": "code",
   "execution_count": 4,
   "metadata": {},
   "outputs": [],
   "source": [
    "# Loading Gradient Example\n",
    "networks = list(index2region.keys())\n",
    "moviename = 'Chatter'\n",
    "# tmp = load('./resources/dynamic_grad/individual_level/Chatter_grad.pkl')\n",
    "# G_movie, varM = tmp['S30']\n",
    "G_movie, varM = load('./resources/dynamic_grad/group_level/{}_40_grad.pkl'.format(moviename))\n",
    "# Loading Matching Emotion Track\n",
    "full_df  = pd.read_csv('./data/emoFiles/emotion_compile.csv')\n",
    "emo_df   = full_df[full_df['filename']=='W_{}13.csv'.format(moviename)]\n",
    "other_df = full_df[full_df['filename']!='W_{}13.csv'.format(moviename)]"
   ]
  },
  {
   "cell_type": "markdown",
   "metadata": {},
   "source": [
    "We use the following 4 metrics:\n",
    "- network variance/position\n",
    "- network volume\n",
    "- intra-network distances\n",
    "- explained variance from eigendecomposition"
   ]
  },
  {
   "cell_type": "markdown",
   "metadata": {},
   "source": [
    "Chatter, TearsOfSteel, Sintel, LessonLearned, FirstBite"
   ]
  },
  {
   "cell_type": "code",
   "execution_count": null,
   "metadata": {},
   "outputs": [],
   "source": []
  },
  {
   "cell_type": "code",
   "execution_count": null,
   "metadata": {},
   "outputs": [],
   "source": []
  },
  {
   "cell_type": "code",
   "execution_count": null,
   "metadata": {},
   "outputs": [],
   "source": []
  }
 ],
 "metadata": {
  "kernelspec": {
   "display_name": "Python 3.8.13 ('brain')",
   "language": "python",
   "name": "python3"
  },
  "language_info": {
   "codemirror_mode": {
    "name": "ipython",
    "version": 3
   },
   "file_extension": ".py",
   "mimetype": "text/x-python",
   "name": "python",
   "nbconvert_exporter": "python",
   "pygments_lexer": "ipython3",
   "version": "3.8.13"
  },
  "orig_nbformat": 4,
  "vscode": {
   "interpreter": {
    "hash": "6ec5124dab3befe0b36c3911d00ea5bb875e1c7733f5b9dfa3353c27fabcb1db"
   }
  }
 },
 "nbformat": 4,
 "nbformat_minor": 2
}
