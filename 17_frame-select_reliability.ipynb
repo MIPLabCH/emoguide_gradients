{
 "cells": [
  {
   "cell_type": "markdown",
   "metadata": {},
   "source": [
    "# 17. Frame Selected Discriminality and ICC"
   ]
  },
  {
   "cell_type": "code",
   "execution_count": 1,
   "metadata": {},
   "outputs": [],
   "source": [
    "from src import *"
   ]
  },
  {
   "cell_type": "code",
   "execution_count": 2,
   "metadata": {},
   "outputs": [],
   "source": [
    "import pingouin"
   ]
  },
  {
   "cell_type": "markdown",
   "metadata": {},
   "source": [
    "## Description\n",
    "\n",
    "We evaluate frame selected's discriminality and ICC values. \n",
    "\n",
    "GOAL: Compute frame selected's discriminality and ICC values. "
   ]
  },
  {
   "cell_type": "markdown",
   "metadata": {},
   "source": [
    "## Table of Contents\n",
    "- [Frame selected and discrim / ICC](#comparison)"
   ]
  },
  {
   "cell_type": "markdown",
   "metadata": {},
   "source": [
    "<a class=\"anchor\" id=\"comparison\"></a>\n",
    "## Frame selected (by emotion) gradients"
   ]
  },
  {
   "cell_type": "code",
   "execution_count": 3,
   "metadata": {},
   "outputs": [],
   "source": [
    "# Params\n",
    "embedding  = \"dm\" # diffusion map\n",
    "aff_kernel = \"pearson\" #affinity matrix kernel\n",
    "align_meth = \"procrustes\"\n",
    "n_iter     = 10 # procrustes align number of iteration\n",
    "nb_comp    = 3\n",
    "rs         = 99\n",
    "\n",
    "D = lambda x,y: ((x-y)**2).sum(axis=1)"
   ]
  },
  {
   "cell_type": "markdown",
   "metadata": {},
   "source": [
    "Load frame selected and full movie gradients (individual level)"
   ]
  },
  {
   "cell_type": "code",
   "execution_count": 4,
   "metadata": {},
   "outputs": [],
   "source": [
    "total_series = load('./data/fmri_414_series.pkl')\n",
    "f_series = load('./resources/treshed_series.pkl')\n",
    "\n",
    "if 'Rest' in f_series: del fselect_series['Rest']\n",
    "if 'Rest' in total_series: del total_series['Rest']"
   ]
  },
  {
   "cell_type": "code",
   "execution_count": 5,
   "metadata": {},
   "outputs": [],
   "source": [
    "fselected_series = f_series[1][(50, 80)]"
   ]
  },
  {
   "cell_type": "code",
   "execution_count": 8,
   "metadata": {},
   "outputs": [],
   "source": [
    "set1 = list(fselected_series.keys())[:len(fselected_series)//2]\n",
    "set2 = list(fselected_series.keys())[len(fselected_series)//2:]"
   ]
  },
  {
   "cell_type": "code",
   "execution_count": 15,
   "metadata": {},
   "outputs": [],
   "source": [
    "# Group test retest\n",
    "# compute threshed picked timeseries of same length\n",
    "\n",
    "series1 = []\n",
    "for mname in set1:\n",
    "    tmp_dict = fselected_series[mname]\n",
    "    tmp_series = list(tmp_dict.values())\n",
    "    series1 += tmp_series\n",
    "    \n",
    "fc_selects = FC(np.concatenate(series1))\n",
    "g_selects = GradientMaps(n_components=nb_comp, approach=embedding, \n",
    "                            kernel=aff_kernel, random_state=rs)\n",
    "g_selects.fit(fc_selects)\n",
    "grad = g_selects.gradients_\n",
    "fscore = D(grad.mean(axis=0), grad)\n",
    "f_selected_gradients = fscore\n",
    "\n",
    "series2 = []\n",
    "for mname in set2:\n",
    "    tmp_dict = fselected_series[mname]\n",
    "    tmp_series = list(tmp_dict.values())\n",
    "    series2 += tmp_series\n",
    "    \n",
    "fc_selects = FC(np.concatenate(series2))\n",
    "g_selects = GradientMaps(n_components=nb_comp, approach=embedding, \n",
    "                            kernel=aff_kernel, random_state=rs)\n",
    "g_selects.fit(fc_selects)\n",
    "grad = g_selects.gradients_\n",
    "fscore = D(grad.mean(axis=0), grad)\n",
    "f_selected_gradients2 = fscore"
   ]
  },
  {
   "cell_type": "code",
   "execution_count": 6,
   "metadata": {},
   "outputs": [],
   "source": [
    "# Individual test retest\n",
    "# compute threshed picked timeseries of same length\n",
    "f_selected_gradients = {k:{} for k in set1}\n",
    "f_selected_gradients2 = {k:{} for k in set2}\n",
    "\n",
    "for mname in fselected_series:\n",
    "    tmp_dict = fselected_series[mname]\n",
    "    \n",
    "    for _id in tmp_dict:\n",
    "        tmp_series = tmp_dict[_id]\n",
    "        \n",
    "    fc_selects = FC(tmp_series)\n",
    "    g_selects = GradientMaps(n_components=nb_comp, approach=embedding, \n",
    "                            kernel=aff_kernel, random_state=rs)\n",
    "    g_selects.fit(fc_selects)\n",
    "    grad = g_selects.gradients_\n",
    "    fscore = D(grad.mean(axis=0), grad)\n",
    "    f_selected_gradients[mname][_id] = fscore"
   ]
  },
  {
   "cell_type": "markdown",
   "metadata": {},
   "source": [
    "### Compute ICC across movies using class as the ID"
   ]
  },
  {
   "cell_type": "code",
   "execution_count": 50,
   "metadata": {},
   "outputs": [
    {
     "name": "stdout",
     "output_type": "stream",
     "text": [
      "[0.031 0.034 0.037 0.492 0.514 0.538]\n",
      "[0.02  0.025 0.029 0.382 0.434 0.473]\n"
     ]
    }
   ],
   "source": [
    "df = {'movieid': [], 'id': [], 'fscore': []}\n",
    "df2 = {'movieid': [], 'id': [], 'fscore': []}\n",
    "\n",
    "idx = 116\n",
    "for mname in np.array(list(f_selected_gradients.keys())):\n",
    "    for _id in f_selected_gradients[mname]:\n",
    "        df['id'] += [int(_id[1:])]\n",
    "        df['fscore'] += [f_selected_gradients[mname][_id][idx]]\n",
    "        df['movieid'] += [mname]\n",
    "        \n",
    "        df2['id'] += [int(_id[1:])]\n",
    "        df2['fscore'] += [f_selected_gradients2[mname][_id][idx]]\n",
    "        df2['movieid'] += [mname]        \n",
    "\n",
    "df = pd.DataFrame.from_dict(df)\n",
    "df2 = pd.DataFrame.from_dict(df2)\n",
    "\n",
    "icc = pingouin.intraclass_corr(data=df, targets='movieid', raters='id', ratings='fscore')\n",
    "print(np.round(list(icc['ICC']),3))\n",
    "icc2 = pingouin.intraclass_corr(data=df2, targets='movieid', raters='id', ratings='fscore')\n",
    "print(np.round(list(icc2['ICC']),3))"
   ]
  },
  {
   "cell_type": "code",
   "execution_count": 58,
   "metadata": {},
   "outputs": [
    {
     "data": {
      "application/vnd.jupyter.widget-view+json": {
       "model_id": "946b1106c02a41128a1bf7b8515bcb8f",
       "version_major": 2,
       "version_minor": 0
      },
      "text/plain": [
       "  0%|          | 0/414 [00:00<?, ?it/s]"
      ]
     },
     "metadata": {},
     "output_type": "display_data"
    }
   ],
   "source": [
    "resS1_0 = []\n",
    "resS2_0 = []\n",
    "resS1_3 = []\n",
    "resS2_3 = []\n",
    "\n",
    "for idx in tqdm(range(0,414)):\n",
    "    df = {'movieid': [], 'id': [], 'fscore': []}\n",
    "    df2 = {'movieid': [], 'id': [], 'fscore': []}\n",
    "    for mname in f_selected_gradients:\n",
    "        for _id in f_selected_gradients[mname]:\n",
    "            df['id'] += [int(_id[1:])]\n",
    "            df['fscore'] += [f_selected_gradients[mname][_id][idx]]\n",
    "            df['movieid'] += [mname]\n",
    "\n",
    "            df2['id'] += [int(_id[1:])]\n",
    "            df2['fscore'] += [f_selected_gradients2[mname][_id][idx]]\n",
    "            df2['movieid'] += [mname]        \n",
    "\n",
    "    df = pd.DataFrame.from_dict(df)\n",
    "    df2 = pd.DataFrame.from_dict(df2)\n",
    "\n",
    "    icc = pingouin.intraclass_corr(data=df, targets='id', raters='movieid', ratings='fscore')\n",
    "    resS1_0.append(np.round(list(icc['ICC']),3)[0])\n",
    "    resS1_3.append(np.round(list(icc['ICC']),3)[3])\n",
    "\n",
    "    icc2 = pingouin.intraclass_corr(data=df2, targets='id', raters='movieid', ratings='fscore')\n",
    "    resS2_0.append(np.round(list(icc2['ICC']),3)[0])\n",
    "    resS2_3.append(np.round(list(icc2['ICC']),3)[3])"
   ]
  },
  {
   "cell_type": "code",
   "execution_count": 63,
   "metadata": {},
   "outputs": [
    {
     "data": {
      "text/plain": [
       "0.16720048309178745"
      ]
     },
     "execution_count": 63,
     "metadata": {},
     "output_type": "execute_result"
    }
   ],
   "source": [
    "np.mean(resS2_0)"
   ]
  },
  {
   "cell_type": "code",
   "execution_count": 64,
   "metadata": {},
   "outputs": [
    {
     "data": {
      "text/plain": [
       "0.1504830917874396"
      ]
     },
     "execution_count": 64,
     "metadata": {},
     "output_type": "execute_result"
    }
   ],
   "source": [
    "np.mean(resS1_0)"
   ]
  },
  {
   "cell_type": "code",
   "execution_count": 59,
   "metadata": {},
   "outputs": [
    {
     "data": {
      "text/plain": [
       "(array([14., 21., 46., 62., 69., 57., 53., 29., 42., 21.]),\n",
       " array([0.023 , 0.0513, 0.0796, 0.1079, 0.1362, 0.1645, 0.1928, 0.2211,\n",
       "        0.2494, 0.2777, 0.306 ]),\n",
       " <BarContainer object of 10 artists>)"
      ]
     },
     "execution_count": 59,
     "metadata": {},
     "output_type": "execute_result"
    },
    {
     "data": {
      "image/png": "[encoded data removed]",
      "text/plain": [
       "<Figure size 640x480 with 1 Axes>"
      ]
     },
     "metadata": {},
     "output_type": "display_data"
    }
   ],
   "source": [
    "plt.hist(resS1_0)\n",
    "plt.hist(resS2_0)"
   ]
  },
  {
   "cell_type": "code",
   "execution_count": 60,
   "metadata": {},
   "outputs": [
    {
     "data": {
      "text/plain": [
       "(array([  4.,   5.,   5.,  14.,   9.,  32.,  58.,  89., 105.,  93.]),\n",
       " array([0.244 , 0.3056, 0.3672, 0.4288, 0.4904, 0.552 , 0.6136, 0.6752,\n",
       "        0.7368, 0.7984, 0.86  ]),\n",
       " <BarContainer object of 10 artists>)"
      ]
     },
     "execution_count": 60,
     "metadata": {},
     "output_type": "execute_result"
    },
    {
     "data": {
      "image/png": "[encoded data removed]",
      "text/plain": [
       "<Figure size 640x480 with 1 Axes>"
      ]
     },
     "metadata": {},
     "output_type": "display_data"
    }
   ],
   "source": [
    "plt.hist(resS1_3)\n",
    "plt.hist(resS2_3)"
   ]
  },
  {
   "cell_type": "markdown",
   "metadata": {},
   "source": [
    "### Discriminality"
   ]
  },
  {
   "cell_type": "code",
   "execution_count": 19,
   "metadata": {},
   "outputs": [],
   "source": [
    "distance = lambda x,y: 1 - pearson_correlation(x,y)"
   ]
  },
  {
   "cell_type": "code",
   "execution_count": 21,
   "metadata": {},
   "outputs": [],
   "source": [
    "rec = {mname:{} for mname in f_selected_gradients}\n",
    "target = f_selected_gradients['ToClaireFromSonny']['S15']\n",
    "for mname in f_selected_gradients:\n",
    "    for _id in f_selected_gradients[mname]:\n",
    "        rec[mname][_id] = distance(target,f_selected_gradients[mname][_id])"
   ]
  },
  {
   "cell_type": "code",
   "execution_count": 30,
   "metadata": {},
   "outputs": [
    {
     "data": {
      "text/plain": [
       "S25    0.867772\n",
       "S14    0.891594\n",
       "S28    0.635002\n",
       "S22    0.942714\n",
       "S13    0.980000\n",
       "S19    0.875767\n",
       "S21    0.575249\n",
       "S10    0.696651\n",
       "S26    0.816921\n",
       "S17    0.717631\n",
       "S16    0.917437\n",
       "S27    0.868236\n",
       "S11    0.732455\n",
       "S20    0.809545\n",
       "S23    0.827584\n",
       "S29    0.885226\n",
       "S15    0.825755\n",
       "S24    0.983957\n",
       "S07    0.780531\n",
       "S31    0.485678\n",
       "S09    1.242599\n",
       "S03    0.850173\n",
       "S32    0.824558\n",
       "S04    0.795281\n",
       "S05    0.746156\n",
       "S02    0.668683\n",
       "S08    0.927625\n",
       "S30    0.725623\n",
       "S01    1.225139\n",
       "S06    0.584655\n",
       "Name: AfterTheRain, dtype: float64"
      ]
     },
     "execution_count": 30,
     "metadata": {},
     "output_type": "execute_result"
    }
   ],
   "source": [
    "pd.DataFrame.from_records(rec).T.iloc[0]"
   ]
  },
  {
   "cell_type": "code",
   "execution_count": 20,
   "metadata": {},
   "outputs": [
    {
     "data": {
      "text/plain": [
       "0.9339727433075127"
      ]
     },
     "execution_count": 20,
     "metadata": {},
     "output_type": "execute_result"
    }
   ],
   "source": [
    "distance(f_selected_gradients['ToClaireFromSonny']['S15'],f_selected_gradients['ToClaireFromSonny']['S01'])"
   ]
  },
  {
   "cell_type": "code",
   "execution_count": null,
   "metadata": {},
   "outputs": [],
   "source": [
    "distance(f_selected_gradients['ToClaireFromSonny']['S15'],f_selected_gradients['ToClaireFromSonny']['S01'])"
   ]
  }
 ],
 "metadata": {
  "kernelspec": {
   "display_name": "Python 3 (ipykernel)",
   "language": "python",
   "name": "python3"
  },
  "language_info": {
   "codemirror_mode": {
    "name": "ipython",
    "version": 3
   },
   "file_extension": ".py",
   "mimetype": "text/x-python",
   "name": "python",
   "nbconvert_exporter": "python",
   "pygments_lexer": "ipython3",
   "version": "3.8.13"
  },
  "vscode": {
   "interpreter": {
    "hash": "94c5cdb22f2f390cd0f01b98376cf3ee1e72ab00c7efa101fa5d637d1d6155d1"
   }
  }
 },
 "nbformat": 4,
 "nbformat_minor": 2
}
