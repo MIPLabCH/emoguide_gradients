{
 "cells": [
  {
   "attachments": {},
   "cell_type": "markdown",
   "metadata": {},
   "source": [
    "# 15. Frame Selected Matching"
   ]
  },
  {
   "cell_type": "code",
   "execution_count": 3,
   "metadata": {},
   "outputs": [
    {
     "name": "stderr",
     "output_type": "stream",
     "text": [
      "/home/chunhei/miniconda3/envs/gradients_emo/lib/python3.8/site-packages/tqdm/auto.py:22: TqdmWarning: IProgress not found. Please update jupyter and ipywidgets. See https://ipywidgets.readthedocs.io/en/stable/user_install.html\n",
      "  from .autonotebook import tqdm as notebook_tqdm\n"
     ]
    }
   ],
   "source": [
    "from src import *"
   ]
  },
  {
   "attachments": {},
   "cell_type": "markdown",
   "metadata": {},
   "source": [
    "## Description\n",
    "\n",
    "We look in this section for the capacity of matching individuals using frame selected gradients.\n",
    "\n",
    "GOAL: Compute accuracy of frame selected gradients versus movie"
   ]
  },
  {
   "cell_type": "markdown",
   "metadata": {},
   "source": [
    "## Table of Contents\n",
    "- [Frame selected emotion gradients](#comparison)"
   ]
  },
  {
   "cell_type": "code",
   "execution_count": 4,
   "metadata": {},
   "outputs": [],
   "source": [
    "mri_path400 = \"./data/fmri414_compiled/\""
   ]
  },
  {
   "attachments": {},
   "cell_type": "markdown",
   "metadata": {},
   "source": [
    "<a class=\"anchor\" id=\"comparison\"></a>\n",
    "## Frame selected (by emotion) gradients"
   ]
  },
  {
   "attachments": {},
   "cell_type": "markdown",
   "metadata": {},
   "source": [
    "### Defining Emotion Intensity"
   ]
  },
  {
   "cell_type": "code",
   "execution_count": 5,
   "metadata": {},
   "outputs": [],
   "source": [
    "select = ['Anger','Guilt','WarmHeartedness', \\\n",
    "             'Disgust','Happiness','Fear','Regard','Anxiety', \\\n",
    "             'Satisfaction','Pride','Surprise','Love','Sad']\n",
    "\n",
    "tmpdf = pd.read_csv('./data/emotion_compileBIDS.csv')"
   ]
  },
  {
   "cell_type": "code",
   "execution_count": 20,
   "metadata": {},
   "outputs": [
    {
     "name": "stderr",
     "output_type": "stream",
     "text": [
      "  0%|          | 0/15 [00:00<?, ?it/s]"
     ]
    }
   ],
   "source": [
    "order_idx = {}\n",
    "for movie_name400 in tqdm(os.listdir(mri_path400)):\n",
    "    if \"Rest\" in movie_name400: continue        \n",
    "    mri_df400mov  = pd.read_csv(mri_path400 + movie_name400)\n",
    "    movies = [m for m in mri_df400mov.filename.unique() if \"414\" in m] \n",
    "    subject_idx = [int(m[12:14]) for m in movies]\n",
    "    order_idx[movie_name400.split('_')[0]] = subject_idx\n"
   ]
  },
  {
   "cell_type": "code",
   "execution_count": 19,
   "metadata": {},
   "outputs": [
    {
     "data": {
      "text/plain": [
       "{'TearsOfSteel': {...},\n",
       " 'Superhero': {...},\n",
       " 'BetweenViewing': {...},\n",
       " 'BigBuckBunny': {...},\n",
       " 'Sintel': {...},\n",
       " 'Payload': {...},\n",
       " 'AfterTheRain': {...},\n",
       " 'TheSecretNumber': {...},\n",
       " 'FirstBite': {...},\n",
       " 'LessonLearned': {...},\n",
       " 'ToClaireFromSonny': {...},\n",
       " 'Chatter': {...},\n",
       " 'Spaceman': {...},\n",
       " 'YouAgain': {...}}"
      ]
     },
     "execution_count": 19,
     "metadata": {},
     "output_type": "execute_result"
    }
   ],
   "source": [
    "order_idx['Sintel']"
   ]
  },
  {
   "cell_type": "code",
   "execution_count": null,
   "metadata": {},
   "outputs": [],
   "source": [
    "load('./resources/static_grad/individual_level/AfterTheRain_grad414.pkl')"
   ]
  },
  {
   "cell_type": "code",
   "execution_count": 11,
   "metadata": {},
   "outputs": [
    {
     "data": {
      "text/plain": [
       "(30, 406, 414)"
      ]
     },
     "execution_count": 11,
     "metadata": {},
     "output_type": "execute_result"
    }
   ],
   "source": [
    "fselect = load('./resources/threshes/tresh40-0.pkl')\n"
   ]
  },
  {
   "cell_type": "code",
   "execution_count": 12,
   "metadata": {},
   "outputs": [
    {
     "data": {
      "text/plain": [
       "(30, 195, 414)"
      ]
     },
     "execution_count": 12,
     "metadata": {},
     "output_type": "execute_result"
    }
   ],
   "source": [
    "load('./resources/threshes/tresh40-0.pkl')['TearsOfSteel'].shape"
   ]
  },
  {
   "cell_type": "code",
   "execution_count": 6,
   "metadata": {},
   "outputs": [],
   "source": [
    "# Params\n",
    "embedding  = \"dm\" # diffusion map\n",
    "aff_kernel = \"pearson\" #affinity matrix kernel\n",
    "align_meth = \"procrustes\"\n",
    "n_iter     = 10 # procrustes align number of iteration\n",
    "nb_comp    = 3\n",
    "rs         = 99"
   ]
  },
  {
   "attachments": {},
   "cell_type": "markdown",
   "metadata": {},
   "source": [
    "1. Frame selection compute"
   ]
  },
  {
   "cell_type": "code",
   "execution_count": 8,
   "metadata": {},
   "outputs": [],
   "source": [
    "# individual variance variables\n",
    "fselect_subjects_gradients = {}\n",
    "\n",
    "# bootstrap variables\n",
    "sample_size = 25\n",
    "resample_nb = 100\n",
    "fselect_bootstrap_gradients = {}\n",
    "\n",
    "np.random.seed(19)\n",
    "for tpath in os.listdir(\"./resources/threshes/\"):\n",
    "    selected_series = load('./resources/threshes/{}'.format(tpath))\n",
    "\n",
    "    # concatenate on different frames across movies\n",
    "    # basically doing reordering of columns\n",
    "    subject_tmpseries = [[] for _ in range(30)]\n",
    "    tmp = list(selected_series.values())\n",
    "    for i in range(len(tmp)):\n",
    "        if len(tmp[i]) == 0: continue\n",
    "        for nsub in range(30):\n",
    "            subject_tmpseries[nsub].append(tmp[i][nsub])\n",
    "\n",
    "    subject_series = []\n",
    "    for i in range(30):\n",
    "        subject_series.append(np.concatenate(subject_tmpseries[i]))\n",
    "\n",
    "    # 1. Compute individual gradients according to selected frames\n",
    "    subjects_gradients = []\n",
    "    for nsub in range(30):\n",
    "        tmp_series = np.asarray(subject_series)[nsub]\n",
    "        fc_selects = FC(tmp_series)\n",
    "        g_selects = GradientMaps(n_components=nb_comp, approach=embedding, \n",
    "                            kernel=aff_kernel, random_state=rs)\n",
    "        g_selects.fit(fc_selects)\n",
    "        subjects_gradients.append(g_selects.gradients_)\n",
    "\n",
    "    # alignement across all gradients\n",
    "    select_subjects_gradients,_,s = procrustes_align(np.asarray(subjects_gradients))\n",
    "    select_subjects_gradients = np.asarray(select_subjects_gradients)\n",
    "    fselect_subjects_gradients[tpath.split('.')[0]] = select_subjects_gradients\n",
    "\n",
    "\n",
    "    # 2. Compute bootrstrap group gradients according to selected frames\n",
    "    bootstrap_gradients = []\n",
    "    for rnb in range(resample_nb):\n",
    "        index_choice = np.random.choice(np.arange(30), sample_size, replace=False)\n",
    "        tmp_series = np.concatenate(np.array(subject_series)[index_choice])\n",
    "        fc_selects = FC(tmp_series)\n",
    "        g_selects = GradientMaps(n_components=nb_comp, approach=embedding, \n",
    "                            kernel=aff_kernel, random_state=rs)\n",
    "        g_selects.fit(fc_selects)\n",
    "        bootstrap_gradients.append(g_selects.gradients_)\n",
    "    # alignement across all gradients\n",
    "    select_bootstrap_gradients,_,s = procrustes_align(np.asarray(bootstrap_gradients))\n",
    "    select_bootstrap_gradients = np.asarray(select_bootstrap_gradients)\n",
    "    fselect_bootstrap_gradients[tpath.split('.')[0]] = select_bootstrap_gradients"
   ]
  }
 ],
 "metadata": {
  "kernelspec": {
   "display_name": "brain2",
   "language": "python",
   "name": "python3"
  },
  "language_info": {
   "codemirror_mode": {
    "name": "ipython",
    "version": 3
   },
   "file_extension": ".py",
   "mimetype": "text/x-python",
   "name": "python",
   "nbconvert_exporter": "python",
   "pygments_lexer": "ipython3",
   "version": "3.8.10"
  },
  "vscode": {
   "interpreter": {
    "hash": "94c5cdb22f2f390cd0f01b98376cf3ee1e72ab00c7efa101fa5d637d1d6155d1"
   }
  }
 },
 "nbformat": 4,
 "nbformat_minor": 2
}
