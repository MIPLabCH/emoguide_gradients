{
 "cells": [
  {
   "cell_type": "code",
   "execution_count": 2,
   "id": "a066de45",
   "metadata": {},
   "outputs": [],
   "source": [
    "# Import libraries\n",
    "import os, glob, io, pickle,random\n",
    "import numpy as np\n",
    "import pandas as pd\n",
    "import matplotlib.pyplot as plt\n",
    "from tqdm.notebook import tqdm_notebook"
   ]
  },
  {
   "cell_type": "code",
   "execution_count": 3,
   "id": "70647c30",
   "metadata": {},
   "outputs": [],
   "source": [
    "### Functions to load and dump existing structure from/to files\n",
    "def load_file(current_path,filename):\n",
    "    print(\"Loading the file: \",filename)\n",
    "    with open(current_path+filename,'rb') as pickle_file:\n",
    "        cfile=pickle.load(pickle_file)\n",
    "    return(cfile)\n",
    "\n",
    "def dump_file(current_path,filename,data_structure):\n",
    "    if os.path.isfile(current_path+filename) and os.access(current_path, os.R_OK):\n",
    "        # checks if file exists\n",
    "        print (\"File exists and is readable\")\n",
    "        current_file=load_file(current_path,filename)\n",
    "        return(current_file)\n",
    "    else:\n",
    "        if data_structure == [] or data_structure == {}:\n",
    "            return data_structure\n",
    "        else:\n",
    "            print (\"Either file is missing or is not readable, creating file...\")\n",
    "            with open(current_path+filename, 'wb') as outfile:\n",
    "                pickle.dump(data_structure, outfile)\n",
    "            return(1)\n"
   ]
  },
  {
   "cell_type": "markdown",
   "id": "b807893d",
   "metadata": {},
   "source": [
    "##### Loading the length of each movie in a dictionary"
   ]
  },
  {
   "cell_type": "code",
   "execution_count": 4,
   "id": "662fd634",
   "metadata": {},
   "outputs": [],
   "source": [
    "filepath_films='./data/emo/*csv'\n",
    "films_data_length={}\n",
    "for index, film_label in enumerate(glob.glob(filepath_films)):\n",
    "    if 'All_Annotations' not in film_label and 'labels' not in film_label \\\n",
    "    and 'AnnotationWeights' not in film_label and 'WeightedAnnotations' not in film_label:\n",
    "        filmID=film_label.strip().split('/')[-1].split('.')[0][:-2]\n",
    "        current_length=len(np.loadtxt(film_label))\n",
    "        films_data_length[str(filmID.split('_')[1])]=current_length\n"
   ]
  },
  {
   "cell_type": "markdown",
   "id": "740ab8a6",
   "metadata": {},
   "source": [
    "##### Loading the fMRI data for all the movies"
   ]
  },
  {
   "cell_type": "code",
   "execution_count": 7,
   "id": "717c162b",
   "metadata": {},
   "outputs": [
    {
     "data": {
      "application/vnd.jupyter.widget-view+json": {
       "model_id": "a33133ed39df4e899b2cd87051357970",
       "version_major": 2,
       "version_minor": 0
      },
      "text/plain": [
       "  0%|          | 0/450 [00:00<?, ?it/s]"
      ]
     },
     "metadata": {},
     "output_type": "display_data"
    }
   ],
   "source": [
    "EmoResponse            = 3    \n",
    "filepath_movies        = './data/fMRIFiles/TCFiles/TC_400_*'\n",
    "filepath_motion_scores = './data/fMRIFiles/MCFiles/prefiltered_func_data_mcf_rel_'\n",
    "remove_motion          = True\n",
    "motion_thresh          = 0.5\n",
    "\n",
    "data_subject_movies       = {}\n",
    "frame_displacement_movies = {}\n",
    "\n",
    "##Loading movie data\n",
    "for index,current_fp in enumerate(tqdm_notebook(sorted(glob.glob(filepath_movies)))):\n",
    "    if 'Rest' not in current_fp:\n",
    "        subjID    = current_fp.strip().split('/')[-1].split('_')[2]\n",
    "        sessionID = current_fp.strip().split('/')[-1].split('_')[3]\n",
    "        movieID   = current_fp.strip().split('/')[-1].split('_')[-1].split('.')[0]\n",
    "\n",
    "        if subjID not in data_subject_movies:\n",
    "            data_subject_movies[subjID] = {}\n",
    "        if subjID not in frame_displacement_movies:\n",
    "            frame_displacement_movies[subjID] = {}\n",
    "        ## Loading the data and removing the first and last part of the recordings ( 72 TR + EmoResponse)\n",
    "        ## (rest before and after each movie)\n",
    "        #print(index,current_fp,subjID,movieID,films_data_length[movieID])\n",
    "\n",
    "        c_movie_loaded = np.loadtxt(current_fp,delimiter=',')\n",
    "        temporary_data=c_movie_loaded[(72+EmoResponse):(72+EmoResponse)+films_data_length[movieID],:]    \n",
    "\n",
    "        if remove_motion == True:\n",
    "            ##Opening the motion scores\n",
    "            motion_path = filepath_motion_scores+subjID+\"_\"+sessionID+\"_\"+movieID+\".csv\"\n",
    "\n",
    "            ##File with frame displacement\n",
    "            fd_file     = np.loadtxt(motion_path)[(72+EmoResponse+1):(72+EmoResponse)+films_data_length[movieID]+1]\n",
    "\n",
    "            ##Find the indexes where motion is lower than threshold\n",
    "            indexes_no_motion   = np.where(fd_file<motion_thresh)[0]\n",
    "            ##Find the indexes where motion is greater or equal than threshold\n",
    "            indexes_with_motion = np.where(fd_file>=motion_thresh)[0]\n",
    "\n",
    "\n",
    "            ## Set to NaN values that are with motion\n",
    "            temporary_data[indexes_with_motion,:] = np.nan\n",
    "            ##For each subject and each movie, save the info about number of frames with no motion,\n",
    "            ##motion, and the percentage of motion in a list \n",
    "            frame_displacement_movies[subjID][movieID] = [len(indexes_no_motion),len(indexes_with_motion),\n",
    "                                 len(indexes_with_motion)/(len(indexes_with_motion)+len(indexes_no_motion))]\n",
    "\n",
    "            data_subject_movies[subjID][movieID] = temporary_data\n",
    "        else:\n",
    "            data_subject_movies[subjID][movieID] = temporary_data\n",
    "\n",
    "    "
   ]
  },
  {
   "cell_type": "code",
   "execution_count": 12,
   "id": "7a3e8781",
   "metadata": {},
   "outputs": [
    {
     "data": {
      "text/plain": [
       "(377, 400)"
      ]
     },
     "execution_count": 12,
     "metadata": {},
     "output_type": "execute_result"
    }
   ],
   "source": [
    "data_subject_movies['sub-S01']['BigBuckBunny'].shape"
   ]
  },
  {
   "cell_type": "code",
   "execution_count": 14,
   "id": "12bdb81d",
   "metadata": {},
   "outputs": [
    {
     "data": {
      "text/plain": [
       "(250.0, 300.0)"
      ]
     },
     "execution_count": 14,
     "metadata": {},
     "output_type": "execute_result"
    },
    {
     "data": {
      "image/png": "[encoded data removed]",
      "text/plain": [
       "<Figure size 432x288 with 1 Axes>"
      ]
     },
     "metadata": {
      "needs_background": "light"
     },
     "output_type": "display_data"
    }
   ],
   "source": [
    "plt.plot(data_subject_movies['sub-S01']['BigBuckBunny'][:,0])\n",
    "plt.xlim(250,300)"
   ]
  },
  {
   "cell_type": "code",
   "execution_count": 28,
   "id": "64e54d9e",
   "metadata": {},
   "outputs": [
    {
     "data": {
      "text/plain": [
       "dict_keys(['BigBuckBunny', 'FirstBite', 'YouAgain', 'AfterTheRain', 'LessonLearned', 'Payload', 'TheSecretNumber', 'BetweenViewings', 'Chatter', 'Spaceman', 'ToClaireFromSonny', 'Sintel', 'Superhero', 'TearsOfSteel'])"
      ]
     },
     "execution_count": 28,
     "metadata": {},
     "output_type": "execute_result"
    }
   ],
   "source": [
    "data_subject_movies['sub-S01'].keys()"
   ]
  },
  {
   "cell_type": "code",
   "execution_count": 23,
   "id": "e04a33c1",
   "metadata": {},
   "outputs": [
    {
     "data": {
      "text/plain": [
       "(375, 400)"
      ]
     },
     "execution_count": 23,
     "metadata": {},
     "output_type": "execute_result"
    }
   ],
   "source": [
    "data_subject_movies['sub-S01']['BigBuckBunny'].shape"
   ]
  }
 ],
 "metadata": {
  "kernelspec": {
   "display_name": "Python 3.9.12 64-bit",
   "language": "python",
   "name": "python3"
  },
  "language_info": {
   "codemirror_mode": {
    "name": "ipython",
    "version": 3
   },
   "file_extension": ".py",
   "mimetype": "text/x-python",
   "name": "python",
   "nbconvert_exporter": "python",
   "pygments_lexer": "ipython3",
   "version": "3.9.12"
  },
  "vscode": {
   "interpreter": {
    "hash": "b0fa6594d8f4cbf19f97940f81e996739fb7646882a419484c72d19e05852a7e"
   }
  }
 },
 "nbformat": 4,
 "nbformat_minor": 5
}
