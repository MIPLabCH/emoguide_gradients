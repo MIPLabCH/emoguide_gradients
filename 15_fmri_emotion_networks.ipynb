{
 "cells": [
  {
   "cell_type": "code",
   "execution_count": 7,
   "id": "ef2c2489",
   "metadata": {},
   "outputs": [],
   "source": [
    "from src import *\n",
    "import warnings\n",
    "warnings.filterwarnings(\"ignore\")"
   ]
  },
  {
   "cell_type": "markdown",
   "id": "7687802f",
   "metadata": {},
   "source": [
    "## Table of Contents\n",
    "- [Timeseries Comparison](#comparison)\n",
    "- [GLM](#weightings)"
   ]
  },
  {
   "attachments": {},
   "cell_type": "markdown",
   "id": "5f96440f",
   "metadata": {},
   "source": [
    "<a class=\"anchor\" id=\"comparison\"></a>\n",
    "### Generating metric emotion correlation tables"
   ]
  },
  {
   "cell_type": "code",
   "execution_count": 46,
   "id": "7aa12502",
   "metadata": {},
   "outputs": [],
   "source": [
    "networks = list(index2region.keys())\n",
    "\n",
    "select   = ['Anger','Guilt','WarmHeartedness', \\\n",
    "             'Disgust','Happiness','Fear','Contempt','Anxiety', \\\n",
    "             'Satisfaction','Shame','Surprise','Love','Sad']"
   ]
  },
  {
   "cell_type": "code",
   "execution_count": 21,
   "id": "a006dc65",
   "metadata": {},
   "outputs": [],
   "source": [
    "movienames = [moviename.split('_')[0] for moviename in os.listdir('./resources/dynamic_grad/group_level414')]"
   ]
  },
  {
   "cell_type": "code",
   "execution_count": null,
   "id": "34788fc4",
   "metadata": {},
   "outputs": [
    {
     "name": "stderr",
     "output_type": "stream",
     "text": [
      "  0%|                                                                          | 0/6 [00:00<?, ?it/s]\n",
      "  0%|                                                                          | 0/7 [00:00<?, ?it/s]\u001b[A"
     ]
    }
   ],
   "source": [
    "for moviename in tqdm(movienames[9:]):\n",
    "    if moviename == \"Rest\": continue\n",
    "    # 1. Loading Gradient\n",
    "    G_movie, varM = load('./resources/dynamic_grad/group_level414/{}_40_grad.pkl'.format(moviename))\n",
    "    \n",
    "    # 2. Loading Matching Emotion Track\n",
    "    if moviename == 'BetweenViewing':\n",
    "        moviename += 's'\n",
    "    full_df  = pd.read_csv('./data/emoFiles/emotion_compile.csv')\n",
    "    emo_df   = full_df[full_df['filename']=='W_{}13.csv'.format(moviename)]\n",
    "    other_df = full_df[full_df['filename']!='W_{}13.csv'.format(moviename)]\n",
    "\n",
    "    # Grid for each network of correlation with emotions\n",
    "    grad_idx = 0\n",
    "    smfactor = 1\n",
    "    tolshift = 0\n",
    "\n",
    "    n = len(networks)\n",
    "    m = len(select)\n",
    "\n",
    "    pairs = [(\"Vis\", \"Default\"), (\"SomMot\", \"Default\"), \n",
    "            (\"SomMot\", \"Vis\"), (\"DorsAttn\", \"SalVentAttn\"),\n",
    "            (\"DorsAttn\", \"Default\"), (\"Limbic\", \"Default\"), (\"Cont\", \"Default\")]\n",
    "    nb_metric = 6\n",
    "    scores  = np.zeros((nb_metric, n,m))\n",
    "    nscores = np.zeros((nb_metric, n,m))\n",
    "\n",
    "    # METRIC 1\n",
    "    for idx, pair in enumerate(tqdm(pairs)):\n",
    "        p1,p2 = pair\n",
    "        y = np.asarray([networks_distance(G_movie[t], G_movie[t], p1, p2) \n",
    "                        for t in range(len(G_movie))])\n",
    "        z1 = zscore(y)\n",
    "        for jdx, emotion in enumerate(select):\n",
    "            concat_other = np.array(other_df[other_df.item == emotion]['score'])\n",
    "            emo_series = np.array(emo_df[emo_df.item==emotion]['score'])\n",
    "            smoothened = overlap_add(emo_series, smfactor)\n",
    "            z2   = zscore(smoothened[:z1.shape[0]])\n",
    "\n",
    "            _, nscore, corr = moviemix_stat_test(z1, z2, concat_other)\n",
    "            nscores[0, idx,jdx] = nscore\n",
    "            scores[0, idx,jdx]  = corr           \n",
    "\n",
    "    # # METRIC 2\n",
    "    # for idx, R in enumerate(tqdm(networks)):\n",
    "    #     y  = network_variance(G_movie, R, grad_idx)\n",
    "    #     z1 = zscore(y)\n",
    "\n",
    "    #     for jdx, emotion in enumerate(select):\n",
    "    #         concat_other = np.array(other_df[other_df.item == emotion]['score'])\n",
    "    #         emo_series = np.array(emo_df[emo_df.item==emotion]['score'])\n",
    "    #         smoothened = overlap_add(emo_series, smfactor)\n",
    "    #         z2   = zscore(smoothened[:z1.shape[0]])\n",
    "\n",
    "    #         _, nscore, corr = moviemix_stat_test(z1, z2, concat_other)\n",
    "    #         nscores[1, idx,jdx] = nscore\n",
    "    #         scores[1, idx,jdx]  = corr        \n",
    "\n",
    "    # METRIC 3\n",
    "    for idx, R in enumerate(tqdm(networks)):\n",
    "        y  = np.asarray([network_volume(G_movie[t], R) \n",
    "                        for t in range(len(G_movie))])\n",
    "        z1 = zscore(y)\n",
    "\n",
    "        for jdx, emotion in enumerate(select):\n",
    "            concat_other = np.array(other_df[other_df.item == emotion]['score'])\n",
    "            emo_series = np.array(emo_df[emo_df.item==emotion]['score'])\n",
    "            smoothened = overlap_add(emo_series, smfactor)\n",
    "            z2   = zscore(smoothened[:z1.shape[0]])\n",
    "\n",
    "            _, nscore, corr = moviemix_stat_test(z1, z2, concat_other)\n",
    "            nscores[2, idx,jdx] = nscore\n",
    "            scores[2, idx,jdx]  = corr\n",
    "\n",
    "    # METRIC 4\n",
    "    for idx, R in enumerate(tqdm(networks[:-3])):\n",
    "        y  = varM[:,idx]\n",
    "        z1 = zscore(y)\n",
    "\n",
    "        for jdx, emotion in enumerate(select):\n",
    "            concat_other = np.array(other_df[other_df.item == emotion]['score'])\n",
    "            emo_series = np.array(emo_df[emo_df.item==emotion]['score'])\n",
    "            smoothened = overlap_add(emo_series, smfactor)\n",
    "            z2   = zscore(smoothened[:z1.shape[0]])\n",
    "\n",
    "            _, nscore, corr = moviemix_stat_test(z1, z2, concat_other)\n",
    "            nscores[3, idx,jdx] = nscore\n",
    "            scores[3, idx,jdx]  = corr\n",
    "\n",
    "\n",
    "    # METRIC 5 first 7 region of subcortical\n",
    "    for idx, R in enumerate(tqdm(networks)):\n",
    "        tmpA = G_movie[:, 400+idx][:-1]\n",
    "        tmpB = G_movie[:, 400+idx][1:]\n",
    "\n",
    "        y  = np.asarray([ points_distance(tmpA[pidx], tmpB[pidx], pmethod=\"L2\") \n",
    "                            for pidx in range(len(tmpA))])\n",
    "        z1 = zscore(y)\n",
    "\n",
    "        for jdx, emotion in enumerate(select):\n",
    "            concat_other = np.array(other_df[other_df.item == emotion]['score'])\n",
    "            emo_series = np.array(emo_df[emo_df.item==emotion]['score'])\n",
    "            smoothened = overlap_add(emo_series, smfactor)\n",
    "            z2   = zscore(smoothened[:z1.shape[0]])\n",
    "\n",
    "            _, nscore, corr = moviemix_stat_test(z1, z2, concat_other)\n",
    "            nscores[4, idx,jdx] = nscore\n",
    "            scores[4, idx,jdx]  = corr\n",
    "\n",
    "    # METRIC 6 second set of 7 region of subcortical\n",
    "    for idx, R in enumerate(tqdm(networks)):\n",
    "        tmpA = G_movie[:, 407+idx][:-1]\n",
    "        tmpB = G_movie[:, 407+idx][1:]\n",
    "\n",
    "        y  = np.asarray([ points_distance(tmpA[pidx], tmpB[pidx], pmethod=\"L2\") \n",
    "                            for pidx in range(len(tmpA))])\n",
    "        z1 = zscore(y)\n",
    "\n",
    "        for jdx, emotion in enumerate(select):\n",
    "            concat_other = np.array(other_df[other_df.item == emotion]['score'])\n",
    "            emo_series = np.array(emo_df[emo_df.item==emotion]['score'])\n",
    "            smoothened = overlap_add(emo_series, smfactor)\n",
    "            z2   = zscore(smoothened[:z1.shape[0]])\n",
    "\n",
    "            _, nscore, corr = moviemix_stat_test(z1, z2, concat_other)\n",
    "            nscores[5, idx,jdx] = nscore\n",
    "            scores[5, idx,jdx]  = corr\n",
    "\n",
    "    save('./resources/emo_metric_table/{}.pkl'.format(moviename),(nscores,scores))"
   ]
  },
  {
   "cell_type": "code",
   "execution_count": 47,
   "id": "f8e555ab",
   "metadata": {},
   "outputs": [
    {
     "data": {
      "text/plain": [
       "['Anger',\n",
       " 'Guilt',\n",
       " 'WarmHeartedness',\n",
       " 'Disgust',\n",
       " 'Happiness',\n",
       " 'Fear',\n",
       " 'Contempt',\n",
       " 'Anxiety',\n",
       " 'Satisfaction',\n",
       " 'Shame',\n",
       " 'Surprise',\n",
       " 'Love',\n",
       " 'Sad']"
      ]
     },
     "execution_count": 47,
     "metadata": {},
     "output_type": "execute_result"
    }
   ],
   "source": [
    "select"
   ]
  },
  {
   "cell_type": "code",
   "execution_count": 43,
   "id": "5ab1e3c4",
   "metadata": {},
   "outputs": [
    {
     "data": {
      "text/plain": [
       "dict_keys(['AfterTheRain', 'FirstBite', 'Chatter', 'BetweenViewings', 'ToClaireFromSonny', 'Sintel', 'LessonLearned', 'TheSecretNumber', 'Superhero', 'YouAgain', 'BigBuckBunny', 'Spaceman', 'TearsOfSteel', 'Payload'])"
      ]
     },
     "execution_count": 43,
     "metadata": {},
     "output_type": "execute_result"
    }
   ],
   "source": [
    "permovies.keys()"
   ]
  },
  {
   "cell_type": "code",
   "execution_count": 50,
   "id": "6e5d9815",
   "metadata": {},
   "outputs": [
    {
     "data": {
      "text/plain": [
       "array([[ 0.        , -0.        , -0.15161862, -0.        , -0.        ,\n",
       "        -0.        , -0.        ],\n",
       "       [ 0.19554967, -0.        , -0.        , -0.16034344, -0.        ,\n",
       "         0.        , -0.        ]])"
      ]
     },
     "execution_count": 50,
     "metadata": {},
     "output_type": "execute_result"
    }
   ],
   "source": [
    "permovies['Chatter'][[4,5]][:,:,10]"
   ]
  },
  {
   "attachments": {},
   "cell_type": "markdown",
   "id": "9be65a69",
   "metadata": {},
   "source": [
    "### Analysis of emo-metric-table"
   ]
  },
  {
   "cell_type": "code",
   "execution_count": 28,
   "id": "0ec76f0c",
   "metadata": {},
   "outputs": [],
   "source": [
    "permovies   = {}\n",
    "countmovies = {}\n",
    "for file in os.listdir('./resources/emo_metric_table/'):\n",
    "    nscores, scores = load('./resources/emo_metric_table/{}'.format(file))\n",
    "    chop = (nscores < 0.05) * scores\n",
    "    permovies[file.split('.')[0]]   = chop\n",
    "    countmovies[file.split('.')[0]] = np.array(nscores < 0.05 * (scores !=0) , dtype=float)"
   ]
  },
  {
   "cell_type": "code",
   "execution_count": 60,
   "id": "a5d0b61c",
   "metadata": {},
   "outputs": [
    {
     "data": {
      "text/plain": [
       "array([[2., 4., 1., 2., 2., 4., 2., 2., 1., 3., 1., 0., 3.],\n",
       "       [3., 2., 4., 2., 3., 1., 4., 2., 3., 4., 3., 2., 4.],\n",
       "       [3., 0., 0., 2., 2., 2., 0., 2., 0., 1., 2., 1., 1.],\n",
       "       [3., 3., 2., 2., 3., 1., 2., 1., 3., 2., 1., 2., 1.],\n",
       "       [3., 2., 1., 1., 2., 2., 3., 2., 2., 1., 2., 3., 1.],\n",
       "       [2., 4., 3., 2., 3., 2., 3., 3., 4., 2., 1., 3., 2.],\n",
       "       [1., 4., 1., 2., 3., 2., 2., 2., 3., 1., 3., 2., 2.]])"
      ]
     },
     "execution_count": 60,
     "metadata": {},
     "output_type": "execute_result"
    }
   ],
   "source": []
  },
  {
   "cell_type": "code",
   "execution_count": 63,
   "id": "51c3189c",
   "metadata": {},
   "outputs": [
    {
     "data": {
      "text/plain": [
       "<AxesSubplot:title={'center':'Number of significant correlations'}>"
      ]
     },
     "execution_count": 63,
     "metadata": {},
     "output_type": "execute_result"
    },
    {
     "data": {
      "image/png": "[encoded data removed]",
      "text/plain": [
       "<Figure size 1500x500 with 2 Axes>"
      ]
     },
     "metadata": {},
     "output_type": "display_data"
    }
   ],
   "source": [
    "plt.figure(figsize=(15,5))\n",
    "plt.title(\"Number of significant correlations\")\n",
    "x_axis_labels = [f[:3] for f in select] # labels for x-axis\n",
    "y_axis_labels = [f[:3] for f in networks] # labels for x-axis\n",
    "sns.heatmap(np.asarray(list(countmovies.values())).sum(axis=0)[2], linewidth=0.5,  annot=True, xticklabels=x_axis_labels, yticklabels=y_axis_labels)"
   ]
  },
  {
   "cell_type": "code",
   "execution_count": null,
   "id": "2094dc4f",
   "metadata": {},
   "outputs": [],
   "source": []
  }
 ],
 "metadata": {
  "kernelspec": {
   "display_name": "Python 3 (ipykernel)",
   "language": "python",
   "name": "python3"
  },
  "language_info": {
   "codemirror_mode": {
    "name": "ipython",
    "version": 3
   },
   "file_extension": ".py",
   "mimetype": "text/x-python",
   "name": "python",
   "nbconvert_exporter": "python",
   "pygments_lexer": "ipython3",
   "version": "3.8.13"
  },
  "vscode": {
   "interpreter": {
    "hash": "6ec5124dab3befe0b36c3911d00ea5bb875e1c7733f5b9dfa3353c27fabcb1db"
   }
  }
 },
 "nbformat": 4,
 "nbformat_minor": 5
}
