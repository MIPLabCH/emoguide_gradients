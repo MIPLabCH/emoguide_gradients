{
 "cells": [
  {
   "cell_type": "code",
   "execution_count": 1,
   "id": "ef2c2489",
   "metadata": {},
   "outputs": [],
   "source": [
    "from src import *\n",
    "import warnings\n",
    "warnings.filterwarnings(\"ignore\")"
   ]
  },
  {
   "cell_type": "markdown",
   "id": "7687802f",
   "metadata": {},
   "source": [
    "## Table of Contents\n",
    "- [Timeseries Comparison](#comparison)\n",
    "- [GLM](#weightings)"
   ]
  },
  {
   "cell_type": "markdown",
   "id": "5f96440f",
   "metadata": {},
   "source": [
    "<a class=\"anchor\" id=\"comparison\"></a>\n",
    "### Timeseries Comparison \n",
    "Comparison between item timeseries and centroid of region timeseries"
   ]
  },
  {
   "cell_type": "code",
   "execution_count": null,
   "id": "a006dc65",
   "metadata": {},
   "outputs": [],
   "source": [
    "# 1. Loading Gradient Example\n",
    "networks = list(index2region.keys())\n",
    "moviename = 'Sintel'\n",
    "# opt1: Loading Individual Gradient \n",
    "# tmp = load('./resources/dynamic_grad/individual_level/Chatter_grad.pkl')\n",
    "# G_movie, varM = tmp['S30']\n",
    "\n",
    "# opt2: Loading Group Gradient\n",
    "G_movie, varM = load('./resources/dynamic_grad/group_level2/{}_40_grad.pkl'.format(moviename))\n",
    "\n",
    "# 2. Loading Matching Emotion Track\n",
    "full_df  = pd.read_csv('./data/emoFiles/emotion_compile.csv')\n",
    "emo_df   = full_df[full_df['filename']=='W_{}13.csv'.format(moviename)]\n",
    "other_df = full_df[full_df['filename']!='W_{}13.csv'.format(moviename)]"
   ]
  },
  {
   "cell_type": "code",
   "execution_count": null,
   "id": "34788fc4",
   "metadata": {},
   "outputs": [],
   "source": [
    "# Grid for each network of correlation with emotions\n",
    "grad_idx = 0\n",
    "smfactor = 1\n",
    "tolshift = 0\n",
    "\n",
    "\n",
    "n = len(networks)\n",
    "m = len(select)\n",
    "\n",
    "pairs = [(\"Vis\", \"Default\"), (\"SomMot\", \"Default\"), \n",
    "        (\"SomMot\", \"Vis\"), (\"DorsAttn\", \"SalVentAttn\"),\n",
    "        (\"DorsAttn\", \"Default\"), (\"Limbic\", \"Default\"), (\"Cont\", \"Default\")]\n",
    "nb_metric = 4\n",
    "scores  = np.zeros((nb_metric, n,m))\n",
    "nscores = np.zeros((nb_metric, n,m))\n",
    "\n",
    "# METRIC 1\n",
    "for idx, pair in enumerate(tqdm(pairs)):\n",
    "    p1,p2 = pair\n",
    "    y = np.asarray([networks_distance(G_movie[t], G_movie[t], p1, p2) \n",
    "                    for t in range(len(G_movie))])\n",
    "    z1 = zscore(y)\n",
    "    for jdx, emotion in enumerate(select):\n",
    "        concat_other = np.array(other_df[other_df.item == emotion]['score'])\n",
    "        emo_series = np.array(emo_df[emo_df.item==emotion]['score'])\n",
    "        smoothened = overlap_add(emo_series, smfactor)\n",
    "        z2   = zscore(smoothened[:z1.shape[0]])\n",
    "\n",
    "        _, nscore, corr = moviemix_stat_test(z1, z2, concat_other)\n",
    "        nscores[0, idx,jdx] = nscore\n",
    "        scores[0, idx,jdx]  = corr           \n",
    "\n",
    "# METRIC 2\n",
    "for idx, R in enumerate(networks):\n",
    "    y  = network_variance(G_movie, R, grad_idx)\n",
    "    z1 = zscore(y)\n",
    "\n",
    "    for jdx, emotion in enumerate(select):\n",
    "        concat_other = np.array(other_df[other_df.item == emotion]['score'])\n",
    "        emo_series = np.array(emo_df[emo_df.item==emotion]['score'])\n",
    "        smoothened = overlap_add(emo_series, smfactor)\n",
    "        z2   = zscore(smoothened[:z1.shape[0]])\n",
    "\n",
    "        _, nscore, corr = moviemix_stat_test(z1, z2, concat_other)\n",
    "        nscores[1, idx,jdx] = nscore\n",
    "        scores[1, idx,jdx]  = corr        \n",
    "    \n",
    "# METRIC 3\n",
    "for idx, R in enumerate(networks):\n",
    "    y  = np.asarray([network_volume(G_movie[t], R) \n",
    "                    for t in range(len(G_movie))])\n",
    "    z1 = zscore(y)\n",
    "\n",
    "    for jdx, emotion in enumerate(select):\n",
    "        concat_other = np.array(other_df[other_df.item == emotion]['score'])\n",
    "        emo_series = np.array(emo_df[emo_df.item==emotion]['score'])\n",
    "        smoothened = overlap_add(emo_series, smfactor)\n",
    "        z2   = zscore(smoothened[:z1.shape[0]])\n",
    "\n",
    "        _, nscore, corr = moviemix_stat_test(z1, z2, concat_other)\n",
    "        nscores[2, idx,jdx] = nscore\n",
    "        scores[2, idx,jdx]  = corr\n",
    "\n",
    "# METRIC 4\n",
    "for idx, R in enumerate(networks):\n",
    "    y  = varM[:,idx]\n",
    "    z1 = zscore(y)\n",
    "\n",
    "    for jdx, emotion in enumerate(select):\n",
    "        concat_other = np.array(other_df[other_df.item == emotion]['score'])\n",
    "        emo_series = np.array(emo_df[emo_df.item==emotion]['score'])\n",
    "        smoothened = overlap_add(emo_series, smfactor)\n",
    "        z2   = zscore(smoothened[:z1.shape[0]])\n",
    "\n",
    "        _, nscore, corr = moviemix_stat_test(z1, z2, concat_other)\n",
    "        nscores[3, idx,jdx] = nscore\n",
    "        scores[3, idx,jdx]  = corr\n",
    "\n"
   ]
  }
 ],
 "metadata": {
  "kernelspec": {
   "display_name": "Python 3 (ipykernel)",
   "language": "python",
   "name": "python3"
  },
  "language_info": {
   "codemirror_mode": {
    "name": "ipython",
    "version": 3
   },
   "file_extension": ".py",
   "mimetype": "text/x-python",
   "name": "python",
   "nbconvert_exporter": "python",
   "pygments_lexer": "ipython3",
   "version": "3.8.13"
  }
 },
 "nbformat": 4,
 "nbformat_minor": 5
}
