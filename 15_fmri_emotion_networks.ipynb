{
 "cells": [
  {
   "cell_type": "code",
   "execution_count": 1,
   "id": "ef2c2489",
   "metadata": {},
   "outputs": [],
   "source": [
    "from src import *\n",
    "import warnings\n",
    "warnings.filterwarnings(\"ignore\")"
   ]
  },
  {
   "cell_type": "markdown",
   "id": "7687802f",
   "metadata": {},
   "source": [
    "## Table of Contents\n",
    "- [Generating metric emotion correlation tables](#comparison)\n",
    "- [Analysis of emo-metric-table](#weightings)"
   ]
  },
  {
   "cell_type": "markdown",
   "id": "5f96440f",
   "metadata": {},
   "source": [
    "<a class=\"anchor\" id=\"comparison\"></a>\n",
    "### Generating metric emotion correlation tables"
   ]
  },
  {
   "cell_type": "code",
   "execution_count": 2,
   "id": "7aa12502",
   "metadata": {},
   "outputs": [],
   "source": [
    "networks = list(index2region.keys())\n",
    "\n",
    "select   = ['Anger','Guilt','WarmHeartedness', \\\n",
    "             'Disgust','Happiness','Fear','Contempt','Anxiety', \\\n",
    "             'Satisfaction','Shame','Surprise','Love','Sad']"
   ]
  },
  {
   "cell_type": "code",
   "execution_count": 7,
   "id": "a006dc65",
   "metadata": {},
   "outputs": [],
   "source": [
    "movienames = [moviename.split('_')[0] for moviename in os.listdir('./resources/dynamic_grad/group_level414') \n",
    "              if '80_2' in moviename ]"
   ]
  },
  {
   "cell_type": "code",
   "execution_count": 8,
   "id": "34788fc4",
   "metadata": {
    "scrolled": true
   },
   "outputs": [
    {
     "data": {
      "application/vnd.jupyter.widget-view+json": {
       "model_id": "70242f409944453d924ed6345370e167",
       "version_major": 2,
       "version_minor": 0
      },
      "text/plain": [
       "  0%|          | 0/15 [00:00<?, ?it/s]"
      ]
     },
     "metadata": {},
     "output_type": "display_data"
    },
    {
     "data": {
      "application/vnd.jupyter.widget-view+json": {
       "model_id": "2cad4f92601c4f4aac2ac717cafff9b0",
       "version_major": 2,
       "version_minor": 0
      },
      "text/plain": [
       "  0%|          | 0/8 [00:00<?, ?it/s]"
      ]
     },
     "metadata": {},
     "output_type": "display_data"
    },
    {
     "data": {
      "application/vnd.jupyter.widget-view+json": {
       "model_id": "d106d9ea5c3448dd98cbff7187d4a953",
       "version_major": 2,
       "version_minor": 0
      },
      "text/plain": [
       "  0%|          | 0/8 [00:00<?, ?it/s]"
      ]
     },
     "metadata": {},
     "output_type": "display_data"
    },
    {
     "data": {
      "application/vnd.jupyter.widget-view+json": {
       "model_id": "dd0f046f2ade466ab73235361fdf1168",
       "version_major": 2,
       "version_minor": 0
      },
      "text/plain": [
       "  0%|          | 0/3 [00:00<?, ?it/s]"
      ]
     },
     "metadata": {},
     "output_type": "display_data"
    },
    {
     "data": {
      "application/vnd.jupyter.widget-view+json": {
       "model_id": "0c1781c8f3234a8fbd5d7953b866b534",
       "version_major": 2,
       "version_minor": 0
      },
      "text/plain": [
       "  0%|          | 0/8 [00:00<?, ?it/s]"
      ]
     },
     "metadata": {},
     "output_type": "display_data"
    },
    {
     "data": {
      "application/vnd.jupyter.widget-view+json": {
       "model_id": "d51a38199cb948388ecb57c567c264b3",
       "version_major": 2,
       "version_minor": 0
      },
      "text/plain": [
       "  0%|          | 0/8 [00:00<?, ?it/s]"
      ]
     },
     "metadata": {},
     "output_type": "display_data"
    },
    {
     "data": {
      "application/vnd.jupyter.widget-view+json": {
       "model_id": "b6a03c6134304cfcaea4e47f79309127",
       "version_major": 2,
       "version_minor": 0
      },
      "text/plain": [
       "  0%|          | 0/3 [00:00<?, ?it/s]"
      ]
     },
     "metadata": {},
     "output_type": "display_data"
    },
    {
     "data": {
      "application/vnd.jupyter.widget-view+json": {
       "model_id": "b072a2a6623e4e1f8bcc903cb6cac470",
       "version_major": 2,
       "version_minor": 0
      },
      "text/plain": [
       "  0%|          | 0/8 [00:00<?, ?it/s]"
      ]
     },
     "metadata": {},
     "output_type": "display_data"
    },
    {
     "data": {
      "application/vnd.jupyter.widget-view+json": {
       "model_id": "6671903079ff46bfa52de170e7a18514",
       "version_major": 2,
       "version_minor": 0
      },
      "text/plain": [
       "  0%|          | 0/8 [00:00<?, ?it/s]"
      ]
     },
     "metadata": {},
     "output_type": "display_data"
    },
    {
     "data": {
      "application/vnd.jupyter.widget-view+json": {
       "model_id": "5e089d75f0944ed5a7b39acb99c7fcf2",
       "version_major": 2,
       "version_minor": 0
      },
      "text/plain": [
       "  0%|          | 0/3 [00:00<?, ?it/s]"
      ]
     },
     "metadata": {},
     "output_type": "display_data"
    },
    {
     "data": {
      "application/vnd.jupyter.widget-view+json": {
       "model_id": "21e0ebd556d244d3be5dba314838c5bc",
       "version_major": 2,
       "version_minor": 0
      },
      "text/plain": [
       "  0%|          | 0/8 [00:00<?, ?it/s]"
      ]
     },
     "metadata": {},
     "output_type": "display_data"
    },
    {
     "data": {
      "application/vnd.jupyter.widget-view+json": {
       "model_id": "f9d36b43d62f4062b5f045d6e3e5b2d9",
       "version_major": 2,
       "version_minor": 0
      },
      "text/plain": [
       "  0%|          | 0/8 [00:00<?, ?it/s]"
      ]
     },
     "metadata": {},
     "output_type": "display_data"
    },
    {
     "data": {
      "application/vnd.jupyter.widget-view+json": {
       "model_id": "f7b34c21ffeb4ed4bee3dd07a5980dba",
       "version_major": 2,
       "version_minor": 0
      },
      "text/plain": [
       "  0%|          | 0/3 [00:00<?, ?it/s]"
      ]
     },
     "metadata": {},
     "output_type": "display_data"
    },
    {
     "data": {
      "application/vnd.jupyter.widget-view+json": {
       "model_id": "185a8ae153234b30935903639e5a11b2",
       "version_major": 2,
       "version_minor": 0
      },
      "text/plain": [
       "  0%|          | 0/8 [00:00<?, ?it/s]"
      ]
     },
     "metadata": {},
     "output_type": "display_data"
    },
    {
     "data": {
      "application/vnd.jupyter.widget-view+json": {
       "model_id": "4f68766161154e84b18efd4f72f68d64",
       "version_major": 2,
       "version_minor": 0
      },
      "text/plain": [
       "  0%|          | 0/8 [00:00<?, ?it/s]"
      ]
     },
     "metadata": {},
     "output_type": "display_data"
    },
    {
     "data": {
      "application/vnd.jupyter.widget-view+json": {
       "model_id": "98671f3b9562408ca75cbcf4135e2ff6",
       "version_major": 2,
       "version_minor": 0
      },
      "text/plain": [
       "  0%|          | 0/3 [00:00<?, ?it/s]"
      ]
     },
     "metadata": {},
     "output_type": "display_data"
    },
    {
     "data": {
      "application/vnd.jupyter.widget-view+json": {
       "model_id": "45e01324da1f4ba0be8142f070f3f4af",
       "version_major": 2,
       "version_minor": 0
      },
      "text/plain": [
       "  0%|          | 0/8 [00:00<?, ?it/s]"
      ]
     },
     "metadata": {},
     "output_type": "display_data"
    },
    {
     "data": {
      "application/vnd.jupyter.widget-view+json": {
       "model_id": "a217b00c82934324a6c6d28d206a1e16",
       "version_major": 2,
       "version_minor": 0
      },
      "text/plain": [
       "  0%|          | 0/8 [00:00<?, ?it/s]"
      ]
     },
     "metadata": {},
     "output_type": "display_data"
    },
    {
     "data": {
      "application/vnd.jupyter.widget-view+json": {
       "model_id": "6bc0f62f2c014e01ad7c720f2eb64657",
       "version_major": 2,
       "version_minor": 0
      },
      "text/plain": [
       "  0%|          | 0/3 [00:00<?, ?it/s]"
      ]
     },
     "metadata": {},
     "output_type": "display_data"
    },
    {
     "data": {
      "application/vnd.jupyter.widget-view+json": {
       "model_id": "691ad5c0dc14486f9b200aa9da0766cd",
       "version_major": 2,
       "version_minor": 0
      },
      "text/plain": [
       "  0%|          | 0/8 [00:00<?, ?it/s]"
      ]
     },
     "metadata": {},
     "output_type": "display_data"
    },
    {
     "data": {
      "application/vnd.jupyter.widget-view+json": {
       "model_id": "db625beabc8e47be85854eb39152aa22",
       "version_major": 2,
       "version_minor": 0
      },
      "text/plain": [
       "  0%|          | 0/8 [00:00<?, ?it/s]"
      ]
     },
     "metadata": {},
     "output_type": "display_data"
    },
    {
     "data": {
      "application/vnd.jupyter.widget-view+json": {
       "model_id": "8b9f2999a9b9400690accf629e0044a6",
       "version_major": 2,
       "version_minor": 0
      },
      "text/plain": [
       "  0%|          | 0/3 [00:00<?, ?it/s]"
      ]
     },
     "metadata": {},
     "output_type": "display_data"
    },
    {
     "data": {
      "application/vnd.jupyter.widget-view+json": {
       "model_id": "b53237c817f643b29a1309db150cd1ff",
       "version_major": 2,
       "version_minor": 0
      },
      "text/plain": [
       "  0%|          | 0/8 [00:00<?, ?it/s]"
      ]
     },
     "metadata": {},
     "output_type": "display_data"
    },
    {
     "data": {
      "application/vnd.jupyter.widget-view+json": {
       "model_id": "b42f35d345f145f09132f047bd2e081f",
       "version_major": 2,
       "version_minor": 0
      },
      "text/plain": [
       "  0%|          | 0/8 [00:00<?, ?it/s]"
      ]
     },
     "metadata": {},
     "output_type": "display_data"
    },
    {
     "data": {
      "application/vnd.jupyter.widget-view+json": {
       "model_id": "1cc53d60d1c145a0b571fc9701c5ab19",
       "version_major": 2,
       "version_minor": 0
      },
      "text/plain": [
       "  0%|          | 0/3 [00:00<?, ?it/s]"
      ]
     },
     "metadata": {},
     "output_type": "display_data"
    },
    {
     "data": {
      "application/vnd.jupyter.widget-view+json": {
       "model_id": "59599d6cbf724e3b81d722eec17869cf",
       "version_major": 2,
       "version_minor": 0
      },
      "text/plain": [
       "  0%|          | 0/8 [00:00<?, ?it/s]"
      ]
     },
     "metadata": {},
     "output_type": "display_data"
    },
    {
     "data": {
      "application/vnd.jupyter.widget-view+json": {
       "model_id": "46ac1dae91504dbcb8d55cbb01eeca7e",
       "version_major": 2,
       "version_minor": 0
      },
      "text/plain": [
       "  0%|          | 0/8 [00:00<?, ?it/s]"
      ]
     },
     "metadata": {},
     "output_type": "display_data"
    },
    {
     "data": {
      "application/vnd.jupyter.widget-view+json": {
       "model_id": "c0c75bd7c1e84d92854fb1d7675169bf",
       "version_major": 2,
       "version_minor": 0
      },
      "text/plain": [
       "  0%|          | 0/3 [00:00<?, ?it/s]"
      ]
     },
     "metadata": {},
     "output_type": "display_data"
    },
    {
     "data": {
      "application/vnd.jupyter.widget-view+json": {
       "model_id": "ed48a00d5c144076be79e5c0d9fd1d82",
       "version_major": 2,
       "version_minor": 0
      },
      "text/plain": [
       "  0%|          | 0/8 [00:00<?, ?it/s]"
      ]
     },
     "metadata": {},
     "output_type": "display_data"
    },
    {
     "data": {
      "application/vnd.jupyter.widget-view+json": {
       "model_id": "9e690598e84a4f32891cde7fd9209428",
       "version_major": 2,
       "version_minor": 0
      },
      "text/plain": [
       "  0%|          | 0/8 [00:00<?, ?it/s]"
      ]
     },
     "metadata": {},
     "output_type": "display_data"
    },
    {
     "data": {
      "application/vnd.jupyter.widget-view+json": {
       "model_id": "464048b1b5cb4cc1b7662ad3478bdb1f",
       "version_major": 2,
       "version_minor": 0
      },
      "text/plain": [
       "  0%|          | 0/3 [00:00<?, ?it/s]"
      ]
     },
     "metadata": {},
     "output_type": "display_data"
    },
    {
     "data": {
      "application/vnd.jupyter.widget-view+json": {
       "model_id": "4a480f99c2a9415283360d861db20dbf",
       "version_major": 2,
       "version_minor": 0
      },
      "text/plain": [
       "  0%|          | 0/8 [00:00<?, ?it/s]"
      ]
     },
     "metadata": {},
     "output_type": "display_data"
    },
    {
     "data": {
      "application/vnd.jupyter.widget-view+json": {
       "model_id": "b32deb5fbe4f4f068eeabec69c146a29",
       "version_major": 2,
       "version_minor": 0
      },
      "text/plain": [
       "  0%|          | 0/8 [00:00<?, ?it/s]"
      ]
     },
     "metadata": {},
     "output_type": "display_data"
    },
    {
     "data": {
      "application/vnd.jupyter.widget-view+json": {
       "model_id": "a23b1986f1c2478bb05174f21ef425a8",
       "version_major": 2,
       "version_minor": 0
      },
      "text/plain": [
       "  0%|          | 0/3 [00:00<?, ?it/s]"
      ]
     },
     "metadata": {},
     "output_type": "display_data"
    },
    {
     "data": {
      "application/vnd.jupyter.widget-view+json": {
       "model_id": "5879bf5c7a354d909da811d21bd852ad",
       "version_major": 2,
       "version_minor": 0
      },
      "text/plain": [
       "  0%|          | 0/8 [00:00<?, ?it/s]"
      ]
     },
     "metadata": {},
     "output_type": "display_data"
    },
    {
     "data": {
      "application/vnd.jupyter.widget-view+json": {
       "model_id": "fac3aa5e59bf4eb388347af9424ff564",
       "version_major": 2,
       "version_minor": 0
      },
      "text/plain": [
       "  0%|          | 0/8 [00:00<?, ?it/s]"
      ]
     },
     "metadata": {},
     "output_type": "display_data"
    },
    {
     "data": {
      "application/vnd.jupyter.widget-view+json": {
       "model_id": "d113ef08964b44a5a9286aef69a263e1",
       "version_major": 2,
       "version_minor": 0
      },
      "text/plain": [
       "  0%|          | 0/3 [00:00<?, ?it/s]"
      ]
     },
     "metadata": {},
     "output_type": "display_data"
    },
    {
     "data": {
      "application/vnd.jupyter.widget-view+json": {
       "model_id": "15f30845a0a645ff80c9ea9f2847f5c9",
       "version_major": 2,
       "version_minor": 0
      },
      "text/plain": [
       "  0%|          | 0/8 [00:00<?, ?it/s]"
      ]
     },
     "metadata": {},
     "output_type": "display_data"
    },
    {
     "data": {
      "application/vnd.jupyter.widget-view+json": {
       "model_id": "56e6a7f2848b4cb89f5933a901383215",
       "version_major": 2,
       "version_minor": 0
      },
      "text/plain": [
       "  0%|          | 0/8 [00:00<?, ?it/s]"
      ]
     },
     "metadata": {},
     "output_type": "display_data"
    },
    {
     "data": {
      "application/vnd.jupyter.widget-view+json": {
       "model_id": "256e70a1b9ee49058d90b32d21e38683",
       "version_major": 2,
       "version_minor": 0
      },
      "text/plain": [
       "  0%|          | 0/3 [00:00<?, ?it/s]"
      ]
     },
     "metadata": {},
     "output_type": "display_data"
    },
    {
     "data": {
      "application/vnd.jupyter.widget-view+json": {
       "model_id": "2dc740c80f4746e7a6797c0e6d3210c4",
       "version_major": 2,
       "version_minor": 0
      },
      "text/plain": [
       "  0%|          | 0/8 [00:00<?, ?it/s]"
      ]
     },
     "metadata": {},
     "output_type": "display_data"
    },
    {
     "data": {
      "application/vnd.jupyter.widget-view+json": {
       "model_id": "6ed38320fa7e4af5a5474720bb1f341f",
       "version_major": 2,
       "version_minor": 0
      },
      "text/plain": [
       "  0%|          | 0/8 [00:00<?, ?it/s]"
      ]
     },
     "metadata": {},
     "output_type": "display_data"
    },
    {
     "data": {
      "application/vnd.jupyter.widget-view+json": {
       "model_id": "ca0faab10c904b128ee543583f3c8f8c",
       "version_major": 2,
       "version_minor": 0
      },
      "text/plain": [
       "  0%|          | 0/3 [00:00<?, ?it/s]"
      ]
     },
     "metadata": {},
     "output_type": "display_data"
    }
   ],
   "source": [
    "for moviename in tqdm(movienames):\n",
    "    if moviename == \"Rest\": continue\n",
    "    # 1. Loading Gradient\n",
    "    G_movie, varM = load('./resources/dynamic_grad/group_level414/{}_80_2_grad.pkl'.format(moviename))\n",
    "    \n",
    "    # 2. Loading Matching Emotion Track\n",
    "    if moviename == 'BetweenViewing':\n",
    "        moviename += 's'\n",
    "    full_df  = pd.read_csv('./data/emoFiles/emotion_compile.csv')\n",
    "    emo_df   = full_df[full_df['filename']=='W_{}13.csv'.format(moviename)]\n",
    "    other_df = full_df[full_df['filename']!='W_{}13.csv'.format(moviename)]\n",
    "\n",
    "    # Grid for each network of correlation with emotions\n",
    "    grad_idx = 0\n",
    "    smfactor = 1\n",
    "    tolshift = 0\n",
    "\n",
    "    n = len(networks)\n",
    "    m = len(select)\n",
    "\n",
    "    pairs = [(\"Vis\", \"Default\"), (\"SomMot\", \"Default\"), \n",
    "            (\"SomMot\", \"Vis\"), (\"DorsAttn\", \"SalVentAttn\"),\n",
    "            (\"DorsAttn\", \"Default\"), (\"Limbic\", \"Default\"), (\"Cont\", \"Default\"), (\"Sub\", \"Default\")]\n",
    "    nb_metric = 6\n",
    "    scores    = np.zeros((nb_metric, n,m))\n",
    "    nscores   = np.zeros((nb_metric, n,m))\n",
    "\n",
    "    # METRIC 1\n",
    "    for idx, pair in enumerate(tqdm(pairs)):\n",
    "        p1,p2 = pair\n",
    "        y     = np.asarray([networks_distance(G_movie[t], G_movie[t], p1, p2) \n",
    "                        for t in range(len(G_movie))])\n",
    "        z1 = zscore(y)\n",
    "        for jdx, emotion in enumerate(select):\n",
    "            concat_other = np.array(other_df[other_df.item == emotion]['score'])\n",
    "            emo_series   = np.array(emo_df[emo_df.item==emotion]['score'])\n",
    "            smoothened   = overlap_add(emo_series, smfactor)\n",
    "            z2 = zscore(smoothened[:z1.shape[0]])\n",
    "\n",
    "            _, nscore, corr     = moviemix_stat_test(z1, z2, concat_other)\n",
    "            nscores[0, idx,jdx] = nscore\n",
    "            scores[0, idx,jdx]  = corr\n",
    "\n",
    "    # METRIC 3\n",
    "    for idx, R in enumerate(tqdm(networks)):\n",
    "        y  = np.asarray([network_volume(G_movie[t], R) \n",
    "                        for t in range(len(G_movie))])\n",
    "        z1 = zscore(y)\n",
    "\n",
    "        for jdx, emotion in enumerate(select):\n",
    "            concat_other = np.array(other_df[other_df.item == emotion]['score'])\n",
    "            emo_series   = np.array(emo_df[emo_df.item==emotion]['score'])\n",
    "            smoothened   = overlap_add(emo_series, smfactor)\n",
    "            z2 = zscore(smoothened[:z1.shape[0]])\n",
    "\n",
    "            _, nscore, corr     = moviemix_stat_test(z1, z2, concat_other)\n",
    "            nscores[2, idx,jdx] = nscore\n",
    "            scores[2, idx,jdx]  = corr\n",
    "\n",
    "    # METRIC 4\n",
    "    for idx, R in enumerate(tqdm(networks[:3])):\n",
    "        y  = varM[:,idx]\n",
    "        z1 = zscore(y)\n",
    "\n",
    "        for jdx, emotion in enumerate(select):\n",
    "            concat_other = np.array(other_df[other_df.item == emotion]['score'])\n",
    "            emo_series   = np.array(emo_df[emo_df.item==emotion]['score'])\n",
    "            smoothened   = overlap_add(emo_series, smfactor)\n",
    "            z2 = zscore(smoothened[:z1.shape[0]])\n",
    "\n",
    "            _, nscore, corr     = moviemix_stat_test(z1, z2, concat_other)\n",
    "            nscores[3, idx,jdx] = nscore\n",
    "            scores[3, idx,jdx]  = corr\n",
    "\n",
    "    save('./resources/emo_metric_table/{}_80_2.pkl'.format(moviename),(nscores,scores))"
   ]
  },
  {
   "cell_type": "markdown",
   "id": "9be65a69",
   "metadata": {},
   "source": [
    "### Analysis of emo-metric-table"
   ]
  },
  {
   "cell_type": "code",
   "execution_count": 29,
   "id": "0ec76f0c",
   "metadata": {},
   "outputs": [],
   "source": [
    "permovies   = {}\n",
    "countmovies = {}\n",
    "for file in os.listdir('./resources/emo_metric_table/'):\n",
    "    if '80' in file: continue\n",
    "    nscores, scores = load('./resources/emo_metric_table/{}'.format(file))\n",
    "    chop = (nscores < 0.05) * scores\n",
    "    permovies[file.split('.')[0]]   = chop\n",
    "    countmovies[file.split('.')[0]] = np.array(nscores < 0.01 * (np.abs(scores) > 0.5) , dtype=float)"
   ]
  },
  {
   "cell_type": "code",
   "execution_count": 30,
   "id": "3f1e7d06",
   "metadata": {},
   "outputs": [
    {
     "data": {
      "text/plain": [
       "<AxesSubplot:title={'center':'Number of significant correlations at 0.95'}>"
      ]
     },
     "execution_count": 30,
     "metadata": {},
     "output_type": "execute_result"
    },
    {
     "data": {
      "image/png": "[encoded data removed]",
      "text/plain": [
       "<Figure size 1500x500 with 1 Axes>"
      ]
     },
     "metadata": {},
     "output_type": "display_data"
    }
   ],
   "source": [
    "plt.figure(figsize=(15,5))\n",
    "plt.title(\"Number of significant correlations at 0.95\")\n",
    "x_axis_labels = [f[:3] for f in select] # labels for x-axis\n",
    "y_axis_labels = [f[:3] for f in networks] # labels for x-axis\n",
    "sns.heatmap(np.asarray(list(countmovies.values())).sum(axis=0)[2], linewidth=0.5,  \n",
    "            annot=True, xticklabels=x_axis_labels, yticklabels=y_axis_labels,  cbar=False)"
   ]
  },
  {
   "cell_type": "code",
   "execution_count": 12,
   "id": "51c3189c",
   "metadata": {},
   "outputs": [
    {
     "data": {
      "text/plain": [
       "<AxesSubplot:title={'center':'Number of significant correlations at 0.99'}>"
      ]
     },
     "execution_count": 12,
     "metadata": {},
     "output_type": "execute_result"
    },
    {
     "data": {
      "image/png": "[encoded data removed]",
      "text/plain": [
       "<Figure size 1500x500 with 1 Axes>"
      ]
     },
     "metadata": {},
     "output_type": "display_data"
    }
   ],
   "source": [
    "plt.figure(figsize=(15,5))\n",
    "plt.title(\"Number of significant correlations at 0.99\")\n",
    "x_axis_labels = [f[:3] for f in select] # labels for x-axis\n",
    "y_axis_labels = [f[:3] for f in networks] # labels for x-axis\n",
    "sns.heatmap(np.asarray(list(countmovies.values())).sum(axis=0)[2], linewidth=0.5,  annot=True, \n",
    "            xticklabels=x_axis_labels, yticklabels=y_axis_labels,  cbar=False)"
   ]
  },
  {
   "cell_type": "code",
   "execution_count": null,
   "id": "2094dc4f",
   "metadata": {},
   "outputs": [],
   "source": []
  }
 ],
 "metadata": {
  "kernelspec": {
   "display_name": "Python 3 (ipykernel)",
   "language": "python",
   "name": "python3"
  },
  "language_info": {
   "codemirror_mode": {
    "name": "ipython",
    "version": 3
   },
   "file_extension": ".py",
   "mimetype": "text/x-python",
   "name": "python",
   "nbconvert_exporter": "python",
   "pygments_lexer": "ipython3",
   "version": "3.8.13"
  },
  "vscode": {
   "interpreter": {
    "hash": "6ec5124dab3befe0b36c3911d00ea5bb875e1c7733f5b9dfa3353c27fabcb1db"
   }
  }
 },
 "nbformat": 4,
 "nbformat_minor": 5
}
