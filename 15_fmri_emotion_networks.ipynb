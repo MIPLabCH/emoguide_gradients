{
 "cells": [
  {
   "cell_type": "code",
   "execution_count": 17,
   "id": "ef2c2489",
   "metadata": {},
   "outputs": [],
   "source": [
    "from src import *\n",
    "import warnings\n",
    "warnings.filterwarnings(\"ignore\")"
   ]
  },
  {
   "cell_type": "code",
   "execution_count": 27,
   "id": "541367d6",
   "metadata": {},
   "outputs": [],
   "source": [
    "def shift_series_nulldistribution(Y, othermoviesdf, emotion_df, smfactor=1):\n",
    "    ret_nscore = np.zeros((len(select)))\n",
    "    ret_score  = np.zeros((len(select)))\n",
    "\n",
    "    z1 = zscore(Y)\n",
    "    for jdx, emotion in enumerate(select):\n",
    "        concat_other = np.array(othermoviesdf[othermoviesdf.item == emotion]['score'])\n",
    "        emo_series   = np.array(emotion_df[emotion_df.item==emotion]['score'])\n",
    "        smoothened   = overlap_add(emo_series, smfactor)\n",
    "        z2           = zscore(smoothened[:z1.shape[0]])\n",
    "\n",
    "        _, nscore, corr = moviemix_stat_test(z1, z2, concat_other)\n",
    "        ret_nscore[jdx] = nscore\n",
    "        ret_score[jdx]  = corr\n",
    "    \n",
    "    return ret_score, ret_nscore"
   ]
  },
  {
   "cell_type": "markdown",
   "id": "7687802f",
   "metadata": {},
   "source": [
    "## Table of Contents\n",
    "- [Generating metric emotion correlation tables](#comparison)\n",
    "- [Analysis of emo-metric-table](#weightings)"
   ]
  },
  {
   "cell_type": "markdown",
   "id": "5f96440f",
   "metadata": {},
   "source": [
    "<a class=\"anchor\" id=\"comparison\"></a>\n",
    "### Generating metric emotion correlation tables"
   ]
  },
  {
   "cell_type": "code",
   "execution_count": 18,
   "id": "7aa12502",
   "metadata": {},
   "outputs": [],
   "source": [
    "networks = list(index2region.keys())\n",
    "\n",
    "select   = ['Anger','Guilt','WarmHeartedness', \\\n",
    "             'Disgust','Happiness','Fear','Regard','Anxiety', \\\n",
    "             'Satisfaction','Pride','Surprise','Love','Sad']"
   ]
  },
  {
   "cell_type": "code",
   "execution_count": 16,
   "id": "a006dc65",
   "metadata": {},
   "outputs": [],
   "source": [
    "movienames = [moviename.split('_')[0] for moviename in os.listdir('./resources/dynamic_grad/group_level414') \n",
    "              if '80' in moviename]"
   ]
  },
  {
   "cell_type": "code",
   "execution_count": 23,
   "id": "34788fc4",
   "metadata": {
    "scrolled": true
   },
   "outputs": [
    {
     "data": {
      "application/vnd.jupyter.widget-view+json": {
       "model_id": "26c9ead545af4aaaab2bae3e503d40bd",
       "version_major": 2,
       "version_minor": 0
      },
      "text/plain": [
       "  0%|          | 0/15 [00:00<?, ?it/s]"
      ]
     },
     "metadata": {},
     "output_type": "display_data"
    },
    {
     "data": {
      "application/vnd.jupyter.widget-view+json": {
       "model_id": "7fa29e4842f24c03a02cec62ba8fde69",
       "version_major": 2,
       "version_minor": 0
      },
      "text/plain": [
       "  0%|          | 0/28 [00:00<?, ?it/s]"
      ]
     },
     "metadata": {},
     "output_type": "display_data"
    },
    {
     "data": {
      "application/vnd.jupyter.widget-view+json": {
       "model_id": "e1673787bd224f18919558060fbf5025",
       "version_major": 2,
       "version_minor": 0
      },
      "text/plain": [
       "  0%|          | 0/8 [00:00<?, ?it/s]"
      ]
     },
     "metadata": {},
     "output_type": "display_data"
    },
    {
     "data": {
      "application/vnd.jupyter.widget-view+json": {
       "model_id": "7138a8813d0f422c96fd31c0c3fd5c24",
       "version_major": 2,
       "version_minor": 0
      },
      "text/plain": [
       "  0%|          | 0/3 [00:00<?, ?it/s]"
      ]
     },
     "metadata": {},
     "output_type": "display_data"
    },
    {
     "data": {
      "application/vnd.jupyter.widget-view+json": {
       "model_id": "d0379cd9a0424e7c93f8be98cf819d32",
       "version_major": 2,
       "version_minor": 0
      },
      "text/plain": [
       "  0%|          | 0/28 [00:00<?, ?it/s]"
      ]
     },
     "metadata": {},
     "output_type": "display_data"
    },
    {
     "data": {
      "application/vnd.jupyter.widget-view+json": {
       "model_id": "bebc22a3b6b04a9b9d0dd4a5403d948a",
       "version_major": 2,
       "version_minor": 0
      },
      "text/plain": [
       "  0%|          | 0/8 [00:00<?, ?it/s]"
      ]
     },
     "metadata": {},
     "output_type": "display_data"
    },
    {
     "data": {
      "application/vnd.jupyter.widget-view+json": {
       "model_id": "af87953369e642e684e39125a0edadc3",
       "version_major": 2,
       "version_minor": 0
      },
      "text/plain": [
       "  0%|          | 0/3 [00:00<?, ?it/s]"
      ]
     },
     "metadata": {},
     "output_type": "display_data"
    },
    {
     "data": {
      "application/vnd.jupyter.widget-view+json": {
       "model_id": "dc09e00797aa44e6ba0f7098d4b6417c",
       "version_major": 2,
       "version_minor": 0
      },
      "text/plain": [
       "  0%|          | 0/28 [00:00<?, ?it/s]"
      ]
     },
     "metadata": {},
     "output_type": "display_data"
    },
    {
     "data": {
      "application/vnd.jupyter.widget-view+json": {
       "model_id": "b126bfc7147f4a5abae6cd7af9915890",
       "version_major": 2,
       "version_minor": 0
      },
      "text/plain": [
       "  0%|          | 0/8 [00:00<?, ?it/s]"
      ]
     },
     "metadata": {},
     "output_type": "display_data"
    },
    {
     "data": {
      "application/vnd.jupyter.widget-view+json": {
       "model_id": "85028e7c812a4932b976df08e4232709",
       "version_major": 2,
       "version_minor": 0
      },
      "text/plain": [
       "  0%|          | 0/3 [00:00<?, ?it/s]"
      ]
     },
     "metadata": {},
     "output_type": "display_data"
    },
    {
     "data": {
      "application/vnd.jupyter.widget-view+json": {
       "model_id": "cadf6e7117744d0d831feaebf1e871f3",
       "version_major": 2,
       "version_minor": 0
      },
      "text/plain": [
       "  0%|          | 0/28 [00:00<?, ?it/s]"
      ]
     },
     "metadata": {},
     "output_type": "display_data"
    },
    {
     "data": {
      "application/vnd.jupyter.widget-view+json": {
       "model_id": "57e4aa6e67e4430e9eb82d7f5fca7399",
       "version_major": 2,
       "version_minor": 0
      },
      "text/plain": [
       "  0%|          | 0/8 [00:00<?, ?it/s]"
      ]
     },
     "metadata": {},
     "output_type": "display_data"
    },
    {
     "data": {
      "application/vnd.jupyter.widget-view+json": {
       "model_id": "53cfc28e941e431e855be96619832f08",
       "version_major": 2,
       "version_minor": 0
      },
      "text/plain": [
       "  0%|          | 0/3 [00:00<?, ?it/s]"
      ]
     },
     "metadata": {},
     "output_type": "display_data"
    },
    {
     "data": {
      "application/vnd.jupyter.widget-view+json": {
       "model_id": "49ceb3dec8b74d83a84b6227355244e1",
       "version_major": 2,
       "version_minor": 0
      },
      "text/plain": [
       "  0%|          | 0/28 [00:00<?, ?it/s]"
      ]
     },
     "metadata": {},
     "output_type": "display_data"
    },
    {
     "data": {
      "application/vnd.jupyter.widget-view+json": {
       "model_id": "1751c72e064c4f10b12c58f2ca22b1eb",
       "version_major": 2,
       "version_minor": 0
      },
      "text/plain": [
       "  0%|          | 0/8 [00:00<?, ?it/s]"
      ]
     },
     "metadata": {},
     "output_type": "display_data"
    },
    {
     "data": {
      "application/vnd.jupyter.widget-view+json": {
       "model_id": "24e95995a24f4f6380c480ba638bebe3",
       "version_major": 2,
       "version_minor": 0
      },
      "text/plain": [
       "  0%|          | 0/3 [00:00<?, ?it/s]"
      ]
     },
     "metadata": {},
     "output_type": "display_data"
    },
    {
     "data": {
      "application/vnd.jupyter.widget-view+json": {
       "model_id": "0836ada42ad24155a4912bc5ae7bce16",
       "version_major": 2,
       "version_minor": 0
      },
      "text/plain": [
       "  0%|          | 0/28 [00:00<?, ?it/s]"
      ]
     },
     "metadata": {},
     "output_type": "display_data"
    },
    {
     "data": {
      "application/vnd.jupyter.widget-view+json": {
       "model_id": "43c8baec797b4082bc907715e1979c6f",
       "version_major": 2,
       "version_minor": 0
      },
      "text/plain": [
       "  0%|          | 0/8 [00:00<?, ?it/s]"
      ]
     },
     "metadata": {},
     "output_type": "display_data"
    },
    {
     "data": {
      "application/vnd.jupyter.widget-view+json": {
       "model_id": "c03579eb80854082a5272e73bec8b0eb",
       "version_major": 2,
       "version_minor": 0
      },
      "text/plain": [
       "  0%|          | 0/3 [00:00<?, ?it/s]"
      ]
     },
     "metadata": {},
     "output_type": "display_data"
    },
    {
     "data": {
      "application/vnd.jupyter.widget-view+json": {
       "model_id": "2e650d66755f4bbb9072f7f9cb175e4c",
       "version_major": 2,
       "version_minor": 0
      },
      "text/plain": [
       "  0%|          | 0/28 [00:00<?, ?it/s]"
      ]
     },
     "metadata": {},
     "output_type": "display_data"
    },
    {
     "data": {
      "application/vnd.jupyter.widget-view+json": {
       "model_id": "3bfd7780f3334722875f3b7bde20ed2b",
       "version_major": 2,
       "version_minor": 0
      },
      "text/plain": [
       "  0%|          | 0/8 [00:00<?, ?it/s]"
      ]
     },
     "metadata": {},
     "output_type": "display_data"
    },
    {
     "data": {
      "application/vnd.jupyter.widget-view+json": {
       "model_id": "e9a4dc5d8db7408e8820e1de28a214b7",
       "version_major": 2,
       "version_minor": 0
      },
      "text/plain": [
       "  0%|          | 0/3 [00:00<?, ?it/s]"
      ]
     },
     "metadata": {},
     "output_type": "display_data"
    },
    {
     "data": {
      "application/vnd.jupyter.widget-view+json": {
       "model_id": "43a989f261ae41b692c1f4d588f99c2c",
       "version_major": 2,
       "version_minor": 0
      },
      "text/plain": [
       "  0%|          | 0/28 [00:00<?, ?it/s]"
      ]
     },
     "metadata": {},
     "output_type": "display_data"
    },
    {
     "data": {
      "application/vnd.jupyter.widget-view+json": {
       "model_id": "32aba040939f4f75960f041f5ebe0f11",
       "version_major": 2,
       "version_minor": 0
      },
      "text/plain": [
       "  0%|          | 0/8 [00:00<?, ?it/s]"
      ]
     },
     "metadata": {},
     "output_type": "display_data"
    },
    {
     "data": {
      "application/vnd.jupyter.widget-view+json": {
       "model_id": "a3f9add814b246339baa984f936e0fc7",
       "version_major": 2,
       "version_minor": 0
      },
      "text/plain": [
       "  0%|          | 0/3 [00:00<?, ?it/s]"
      ]
     },
     "metadata": {},
     "output_type": "display_data"
    },
    {
     "data": {
      "application/vnd.jupyter.widget-view+json": {
       "model_id": "566ccf84b7864d5cba879e4a39375626",
       "version_major": 2,
       "version_minor": 0
      },
      "text/plain": [
       "  0%|          | 0/28 [00:00<?, ?it/s]"
      ]
     },
     "metadata": {},
     "output_type": "display_data"
    },
    {
     "data": {
      "application/vnd.jupyter.widget-view+json": {
       "model_id": "a46b6da1d0c641fc9372083897cacf70",
       "version_major": 2,
       "version_minor": 0
      },
      "text/plain": [
       "  0%|          | 0/8 [00:00<?, ?it/s]"
      ]
     },
     "metadata": {},
     "output_type": "display_data"
    },
    {
     "data": {
      "application/vnd.jupyter.widget-view+json": {
       "model_id": "f753834bfffa4bc582b0cd5b2302c63c",
       "version_major": 2,
       "version_minor": 0
      },
      "text/plain": [
       "  0%|          | 0/3 [00:00<?, ?it/s]"
      ]
     },
     "metadata": {},
     "output_type": "display_data"
    },
    {
     "data": {
      "application/vnd.jupyter.widget-view+json": {
       "model_id": "ebc37fde323549888a045a6bab8a9b55",
       "version_major": 2,
       "version_minor": 0
      },
      "text/plain": [
       "  0%|          | 0/28 [00:00<?, ?it/s]"
      ]
     },
     "metadata": {},
     "output_type": "display_data"
    },
    {
     "data": {
      "application/vnd.jupyter.widget-view+json": {
       "model_id": "523216bb3a554734b387badf84483af0",
       "version_major": 2,
       "version_minor": 0
      },
      "text/plain": [
       "  0%|          | 0/8 [00:00<?, ?it/s]"
      ]
     },
     "metadata": {},
     "output_type": "display_data"
    },
    {
     "data": {
      "application/vnd.jupyter.widget-view+json": {
       "model_id": "5f39b72d6cee4e13b44aee3f93b9f004",
       "version_major": 2,
       "version_minor": 0
      },
      "text/plain": [
       "  0%|          | 0/3 [00:00<?, ?it/s]"
      ]
     },
     "metadata": {},
     "output_type": "display_data"
    },
    {
     "data": {
      "application/vnd.jupyter.widget-view+json": {
       "model_id": "1041cf433a3e4f5e80f8fa90a4b5328a",
       "version_major": 2,
       "version_minor": 0
      },
      "text/plain": [
       "  0%|          | 0/28 [00:00<?, ?it/s]"
      ]
     },
     "metadata": {},
     "output_type": "display_data"
    },
    {
     "data": {
      "application/vnd.jupyter.widget-view+json": {
       "model_id": "8f5f7611861f45268335e7ad2f05583f",
       "version_major": 2,
       "version_minor": 0
      },
      "text/plain": [
       "  0%|          | 0/8 [00:00<?, ?it/s]"
      ]
     },
     "metadata": {},
     "output_type": "display_data"
    },
    {
     "data": {
      "application/vnd.jupyter.widget-view+json": {
       "model_id": "08b56fd1cfc4478287dcb378b62fd852",
       "version_major": 2,
       "version_minor": 0
      },
      "text/plain": [
       "  0%|          | 0/3 [00:00<?, ?it/s]"
      ]
     },
     "metadata": {},
     "output_type": "display_data"
    },
    {
     "data": {
      "application/vnd.jupyter.widget-view+json": {
       "model_id": "86a8ec23c687435abe6935773a2251df",
       "version_major": 2,
       "version_minor": 0
      },
      "text/plain": [
       "  0%|          | 0/28 [00:00<?, ?it/s]"
      ]
     },
     "metadata": {},
     "output_type": "display_data"
    },
    {
     "data": {
      "application/vnd.jupyter.widget-view+json": {
       "model_id": "608c2fcf64164d2b916b8a236452c600",
       "version_major": 2,
       "version_minor": 0
      },
      "text/plain": [
       "  0%|          | 0/8 [00:00<?, ?it/s]"
      ]
     },
     "metadata": {},
     "output_type": "display_data"
    },
    {
     "data": {
      "application/vnd.jupyter.widget-view+json": {
       "model_id": "263b05a3f3db4d9a8990ee142fd6a237",
       "version_major": 2,
       "version_minor": 0
      },
      "text/plain": [
       "  0%|          | 0/3 [00:00<?, ?it/s]"
      ]
     },
     "metadata": {},
     "output_type": "display_data"
    },
    {
     "data": {
      "application/vnd.jupyter.widget-view+json": {
       "model_id": "c9d4cdcf16224b07bcde61f5fe2180c6",
       "version_major": 2,
       "version_minor": 0
      },
      "text/plain": [
       "  0%|          | 0/28 [00:00<?, ?it/s]"
      ]
     },
     "metadata": {},
     "output_type": "display_data"
    },
    {
     "data": {
      "application/vnd.jupyter.widget-view+json": {
       "model_id": "d2f1ef39977747f298b5ad1f966c2e76",
       "version_major": 2,
       "version_minor": 0
      },
      "text/plain": [
       "  0%|          | 0/8 [00:00<?, ?it/s]"
      ]
     },
     "metadata": {},
     "output_type": "display_data"
    },
    {
     "data": {
      "application/vnd.jupyter.widget-view+json": {
       "model_id": "7218365f66dd4d2cba37daf4361e2a82",
       "version_major": 2,
       "version_minor": 0
      },
      "text/plain": [
       "  0%|          | 0/3 [00:00<?, ?it/s]"
      ]
     },
     "metadata": {},
     "output_type": "display_data"
    },
    {
     "data": {
      "application/vnd.jupyter.widget-view+json": {
       "model_id": "90ffa31e25bd4a58a93470e20f58f665",
       "version_major": 2,
       "version_minor": 0
      },
      "text/plain": [
       "  0%|          | 0/28 [00:00<?, ?it/s]"
      ]
     },
     "metadata": {},
     "output_type": "display_data"
    },
    {
     "data": {
      "application/vnd.jupyter.widget-view+json": {
       "model_id": "bce21509935447bebfb099875bcfbc2a",
       "version_major": 2,
       "version_minor": 0
      },
      "text/plain": [
       "  0%|          | 0/8 [00:00<?, ?it/s]"
      ]
     },
     "metadata": {},
     "output_type": "display_data"
    },
    {
     "data": {
      "application/vnd.jupyter.widget-view+json": {
       "model_id": "7ce0fb39b3fb4d0db63464df78e9d822",
       "version_major": 2,
       "version_minor": 0
      },
      "text/plain": [
       "  0%|          | 0/3 [00:00<?, ?it/s]"
      ]
     },
     "metadata": {},
     "output_type": "display_data"
    }
   ],
   "source": [
    "pairs = []\n",
    "for net in networks:\n",
    "    for net2 in networks:\n",
    "        if net == net2: continue\n",
    "        if ((net,net2) not in pairs) and ((net2,net) not in pairs):\n",
    "            pairs.append((net,net2))\n",
    "                \n",
    "for moviename in tqdm(movienames):\n",
    "    if moviename == \"Rest\": continue\n",
    "    # 1. Loading Gradient\n",
    "    G_movie, varM = load('./resources/dynamic_grad/group_level414/{}_40_grad.pkl'.format(moviename))\n",
    "    \n",
    "    # 2. Loading Matching Emotion Track\n",
    "    full_df  = pd.read_csv('./data/emotion_compileBIDS.csv')\n",
    "    emo_df   = full_df[full_df['filename']=='W_{}13.csv'.format(moviename)]\n",
    "    other_df = full_df[full_df['filename']!='W_{}13.csv'.format(moviename)]\n",
    "\n",
    "    # Grid for each network of correlation with emotions\n",
    "    grad_idx = 0\n",
    "    smfactor = 1\n",
    "    tolshift = 0\n",
    "\n",
    "    n = len(pairs)\n",
    "    m = len(select)\n",
    "\n",
    "    nb_metric = 3\n",
    "    scores    = np.zeros((nb_metric, n,m))\n",
    "    nscores   = np.zeros((nb_metric, n,m))\n",
    "\n",
    "    # METRIC 1\n",
    "    for idx, pair in enumerate(tqdm(pairs)):\n",
    "        p1,p2 = pair\n",
    "        y     = np.asarray([networks_distance(G_movie[t], G_movie[t], p1, p2) \n",
    "                        for t in range(len(G_movie))])\n",
    "        z1    = zscore(y)\n",
    "        for jdx, emotion in enumerate(select):\n",
    "            concat_other = np.array(other_df[other_df.item == emotion]['score'])\n",
    "            emo_series   = np.array(emo_df[emo_df.item==emotion]['score'])\n",
    "            smoothened   = overlap_add(emo_series, smfactor)\n",
    "            z2 = zscore(smoothened[:z1.shape[0]])\n",
    "\n",
    "            _, nscore, corr     = moviemix_stat_test(z1, z2, concat_other)\n",
    "            nscores[0, idx,jdx] = nscore\n",
    "            scores[0, idx,jdx]  = corr\n",
    "\n",
    "    # METRIC 2\n",
    "    for idx, R in enumerate(tqdm(networks)):\n",
    "        y  = np.asarray([network_volume(G_movie[t], R) \n",
    "                        for t in range(len(G_movie))])\n",
    "        z1 = zscore(y)\n",
    "\n",
    "        for jdx, emotion in enumerate(select):\n",
    "            concat_other = np.array(other_df[other_df.item == emotion]['score'])\n",
    "            emo_series   = np.array(emo_df[emo_df.item==emotion]['score'])\n",
    "            smoothened   = overlap_add(emo_series, smfactor)\n",
    "            z2 = zscore(smoothened[:z1.shape[0]])\n",
    "\n",
    "            _, nscore, corr     = moviemix_stat_test(z1, z2, concat_other)\n",
    "            nscores[1, idx,jdx] = nscore\n",
    "            scores[1, idx,jdx]  = corr\n",
    "\n",
    "    # METRIC 3\n",
    "    for idx, R in enumerate(tqdm(networks[:3])):\n",
    "        y  = varM[:,idx]\n",
    "        z1 = zscore(y)\n",
    "\n",
    "        for jdx, emotion in enumerate(select):\n",
    "            concat_other = np.array(other_df[other_df.item == emotion]['score'])\n",
    "            emo_series   = np.array(emo_df[emo_df.item==emotion]['score'])\n",
    "            smoothened   = overlap_add(emo_series, smfactor)\n",
    "            z2 = zscore(smoothened[:z1.shape[0]])\n",
    "\n",
    "            _, nscore, corr     = moviemix_stat_test(z1, z2, concat_other)\n",
    "            nscores[2, idx,jdx] = nscore\n",
    "            scores[2, idx,jdx]  = corr\n",
    "\n",
    "    save('./resources/emo_metric_table/{}_40_2.pkl'.format(moviename),(nscores,scores))"
   ]
  },
  {
   "cell_type": "code",
   "execution_count": null,
   "id": "de734da6",
   "metadata": {},
   "outputs": [
    {
     "data": {
      "application/vnd.jupyter.widget-view+json": {
       "model_id": "bd60647f261a442abf41b4a34d46386c",
       "version_major": 2,
       "version_minor": 0
      },
      "text/plain": [
       "  0%|          | 0/6 [00:00<?, ?it/s]"
      ]
     },
     "metadata": {},
     "output_type": "display_data"
    },
    {
     "data": {
      "application/vnd.jupyter.widget-view+json": {
       "model_id": "d1dafabfa49948f5b3daec0a4618b8f4",
       "version_major": 2,
       "version_minor": 0
      },
      "text/plain": [
       "  0%|          | 0/414 [00:00<?, ?it/s]"
      ]
     },
     "metadata": {},
     "output_type": "display_data"
    }
   ],
   "source": [
    "# For each region generate correlation with emotions\n",
    "for moviename in tqdm(movienames[9:]):\n",
    "    if moviename == \"Rest\": continue\n",
    "    # 1. Loading Gradient\n",
    "    G_movie, varM = load('./resources/dynamic_grad/group_level414/{}_40_grad.pkl'.format(moviename))\n",
    "    \n",
    "    # 2. Loading Matching Emotion Track\n",
    "    full_df  = pd.read_csv('./data/emotion_compileBIDS.csv')\n",
    "    emo_df   = full_df[full_df['filename']=='W_{}13.csv'.format(moviename)]\n",
    "    other_df = full_df[full_df['filename']!='W_{}13.csv'.format(moviename)]\n",
    "\n",
    "    n = G_movie.shape[1]\n",
    "    m = len(select)\n",
    "\n",
    "    scores2  = np.zeros((n,m))\n",
    "    nscores2 = np.zeros((n,m))\n",
    "\n",
    "    for idx in tqdm(range(n)):\n",
    "\n",
    "    #     y    = np.asarray([ np.sum([points_distance(G_movie[t,idx], G_movie[t,jdx],pmethod=\"L2\")   \n",
    "    #                                 for jdx in range(len(G_movie[t,:])) ])\n",
    "    #             for t in range(len(G_movie))])\n",
    "        y    = np.asarray([ points_distance(G_movie[t,idx], G_movie[t,:].mean(axis=0),pmethod=\"L2\")\n",
    "                for t in range(len(G_movie))])\n",
    "\n",
    "        ret_score, ret_nscore = shift_series_nulldistribution(y, other_df, emo_df)\n",
    "        scores2[idx]  = ret_score\n",
    "        nscores2[idx] = ret_nscore\n",
    "    \n",
    "    save('./resources/emo_metric_table/parcel{}_40_2.pkl'.format(moviename),(nscores,scores))"
   ]
  },
  {
   "cell_type": "code",
   "execution_count": null,
   "id": "49ce3385",
   "metadata": {},
   "outputs": [],
   "source": [
    "print()"
   ]
  },
  {
   "cell_type": "markdown",
   "id": "9be65a69",
   "metadata": {},
   "source": [
    "### Analysis of emo-metric-table"
   ]
  },
  {
   "cell_type": "code",
   "execution_count": 29,
   "id": "0ec76f0c",
   "metadata": {},
   "outputs": [],
   "source": [
    "permovies   = {}\n",
    "countmovies = {}\n",
    "for file in os.listdir('./resources/emo_metric_table/'):\n",
    "    if '80' in file: continue\n",
    "    nscores, scores = load('./resources/emo_metric_table/{}'.format(file))\n",
    "    chop = (nscores < 0.05) * scores\n",
    "    permovies[file.split('.')[0]]   = chop\n",
    "    countmovies[file.split('.')[0]] = np.array(nscores < 0.01 * (np.abs(scores) > 0.5) , dtype=float)"
   ]
  },
  {
   "cell_type": "code",
   "execution_count": 45,
   "id": "c1f6fe68",
   "metadata": {},
   "outputs": [
    {
     "data": {
      "text/plain": [
       "(6, 7, 13)"
      ]
     },
     "execution_count": 45,
     "metadata": {},
     "output_type": "execute_result"
    }
   ],
   "source": [
    "np.asarray(list(countmovies.values())).sum(axis=0).shape"
   ]
  },
  {
   "cell_type": "code",
   "execution_count": 38,
   "id": "3f1e7d06",
   "metadata": {},
   "outputs": [
    {
     "data": {
      "text/plain": [
       "<AxesSubplot:>"
      ]
     },
     "execution_count": 38,
     "metadata": {},
     "output_type": "execute_result"
    },
    {
     "data": {
      "image/png": "[encoded data removed]",
      "text/plain": [
       "<Figure size 1500x1000 with 1 Axes>"
      ]
     },
     "metadata": {},
     "output_type": "display_data"
    }
   ],
   "source": [
    "plt.figure(figsize=(15,10))\n",
    "# plt.title(\"Number of significant correlations at 0.95\")\n",
    "x_axis_labels = [f[:3] for f in select] # labels for x-axis\n",
    "y_axis_labels = [f[:3] for f in networks] # labels for x-axis\n",
    "sns.heatmap(np.asarray(list(countmovies.values())).sum(axis=0)[2], linewidth=0.5,  \n",
    "            annot=True, xticklabels=x_axis_labels, yticklabels=y_axis_labels,  cbar=False)"
   ]
  },
  {
   "cell_type": "code",
   "execution_count": 12,
   "id": "51c3189c",
   "metadata": {},
   "outputs": [
    {
     "data": {
      "text/plain": [
       "<AxesSubplot:title={'center':'Number of significant correlations at 0.99'}>"
      ]
     },
     "execution_count": 12,
     "metadata": {},
     "output_type": "execute_result"
    },
    {
     "data": {
      "image/png": "[encoded data removed]",
      "text/plain": [
       "<Figure size 1500x500 with 1 Axes>"
      ]
     },
     "metadata": {},
     "output_type": "display_data"
    }
   ],
   "source": [
    "plt.figure(figsize=(15,5))\n",
    "# plt.title(\"Number of significant correlations at 0.99\")\n",
    "x_axis_labels = [f[:3] for f in select] # labels for x-axis\n",
    "y_axis_labels = [f[:3] for f in networks] # labels for x-axis\n",
    "sns.heatmap(np.asarray(list(countmovies.values())).sum(axis=0)[2], linewidth=0.5,  annot=True, \n",
    "            xticklabels=x_axis_labels, yticklabels=y_axis_labels,  cbar=False)"
   ]
  },
  {
   "cell_type": "code",
   "execution_count": null,
   "id": "2094dc4f",
   "metadata": {},
   "outputs": [],
   "source": []
  }
 ],
 "metadata": {
  "kernelspec": {
   "display_name": "Python 3 (ipykernel)",
   "language": "python",
   "name": "python3"
  },
  "language_info": {
   "codemirror_mode": {
    "name": "ipython",
    "version": 3
   },
   "file_extension": ".py",
   "mimetype": "text/x-python",
   "name": "python",
   "nbconvert_exporter": "python",
   "pygments_lexer": "ipython3",
   "version": "3.8.13"
  },
  "vscode": {
   "interpreter": {
    "hash": "6ec5124dab3befe0b36c3911d00ea5bb875e1c7733f5b9dfa3353c27fabcb1db"
   }
  }
 },
 "nbformat": 4,
 "nbformat_minor": 5
}
