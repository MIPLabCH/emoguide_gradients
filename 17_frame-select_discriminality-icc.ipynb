{
 "cells": [
  {
   "cell_type": "markdown",
   "metadata": {},
   "source": [
    "# 17. Frame Selected Discriminality and ICC"
   ]
  },
  {
   "cell_type": "code",
   "execution_count": 1,
   "metadata": {},
   "outputs": [],
   "source": [
    "from src import *"
   ]
  },
  {
   "cell_type": "code",
   "execution_count": 2,
   "metadata": {},
   "outputs": [],
   "source": [
    "import pingouin"
   ]
  },
  {
   "cell_type": "markdown",
   "metadata": {},
   "source": [
    "## Description\n",
    "\n",
    "We evaluate frame selected's discriminality and ICC values. \n",
    "\n",
    "GOAL: Compute frame selected's discriminality and ICC values. "
   ]
  },
  {
   "cell_type": "markdown",
   "metadata": {},
   "source": [
    "## Table of Contents\n",
    "- [Frame selected and discrim / ICC](#comparison)"
   ]
  },
  {
   "cell_type": "markdown",
   "metadata": {},
   "source": [
    "<a class=\"anchor\" id=\"comparison\"></a>\n",
    "## Frame selected (by emotion) gradients"
   ]
  },
  {
   "cell_type": "code",
   "execution_count": 3,
   "metadata": {},
   "outputs": [],
   "source": [
    "# Params\n",
    "embedding  = \"dm\" # diffusion map\n",
    "aff_kernel = \"pearson\" #affinity matrix kernel\n",
    "align_meth = \"procrustes\"\n",
    "n_iter     = 10 # procrustes align number of iteration\n",
    "nb_comp    = 3\n",
    "rs         = 99\n",
    "\n",
    "D = lambda x,y: ((x-y)**2).sum(axis=1)"
   ]
  },
  {
   "cell_type": "markdown",
   "metadata": {},
   "source": [
    "Load frame selected and full movie gradients (individual level)"
   ]
  },
  {
   "cell_type": "code",
   "execution_count": 82,
   "metadata": {},
   "outputs": [],
   "source": [
    "total_series = load('resources/threshes/tresh0-1.pkl')\n",
    "# select with thresholded frame selected gradients \n",
    "fselected_series = load('resources/threshes/tresh0-1.pkl') #take top 80 frames\n",
    "# fselected_series = load('resources/threshes/tresh80-1.pkl') #take top 20 frames\n",
    "\n",
    "del total_series['Rest']\n",
    "del fselected_series['Rest']"
   ]
  },
  {
   "cell_type": "code",
   "execution_count": 83,
   "metadata": {},
   "outputs": [],
   "source": [
    "f_selected_gradients = {k:{} for k in fselected_series}\n",
    "\n",
    "for mname in fselected_series:\n",
    "    tmp_dict = fselected_series[mname]\n",
    "#     perc_left = tmp_dict['S15'].shape[0]/total_series[mname]['S15'].shape[0]\n",
    "#     print('Percentage of original series left {}'.format(np.round(perc_left,3)))\n",
    "    for _id in tmp_dict:\n",
    "        tmp_series = tmp_dict[_id]\n",
    "        fc_selects = FC(tmp_series)\n",
    "        g_selects = GradientMaps(n_components=nb_comp, approach=embedding, \n",
    "                            kernel=aff_kernel, random_state=rs)\n",
    "        g_selects.fit(fc_selects)\n",
    "        grad = g_selects.gradients_\n",
    "        fscore = D(grad.mean(axis=0), grad)\n",
    "        f_selected_gradients[mname][_id] = fscore"
   ]
  },
  {
   "cell_type": "code",
   "execution_count": 84,
   "metadata": {},
   "outputs": [],
   "source": [
    "# compute randomly picked timeseries of same length\n",
    "np.random.seed(19)\n",
    "full_movie_grads = {k:{} for k in fselected_series}\n",
    "\n",
    "for mname in fselected_series:\n",
    "    perc_left = fselected_series[mname]['S15'].shape[0]\n",
    "    tmp_dict = total_series[mname]\n",
    "    \n",
    "    for _id in tmp_dict:\n",
    "        tmp_series = tmp_dict[_id]\n",
    "        tmp_index = np.random.choice(np.arange(len(tmp_series)), perc_left,replace=False)\n",
    "        tmp_series = tmp_series[tmp_index]\n",
    "        \n",
    "        fc_selects = FC(tmp_series)\n",
    "        g_selects = GradientMaps(n_components=nb_comp, approach=embedding, \n",
    "                            kernel=aff_kernel, random_state=rs)\n",
    "        g_selects.fit(fc_selects)\n",
    "        grad = g_selects.gradients_\n",
    "        fscore = D(grad.mean(axis=0), grad)\n",
    "        full_movie_grads[mname][_id] = fscore        "
   ]
  },
  {
   "cell_type": "markdown",
   "metadata": {},
   "source": [
    "Compute ICC across movies using class as the ID"
   ]
  },
  {
   "cell_type": "code",
   "execution_count": 85,
   "metadata": {},
   "outputs": [],
   "source": [
    "# all_gradients = {}\n",
    "# for mname in f_selected_gradients:\n",
    "#     if 'Rest' in mname: continue\n",
    "#     all_gradients[mname+'_fselect'] = f_selected_gradients[mname]\n",
    "# for mname in full_movie_grads:\n",
    "#     all_gradients[mname] = full_movie_grads[mname]"
   ]
  },
  {
   "cell_type": "markdown",
   "metadata": {},
   "source": [
    "We want to know the reliability of "
   ]
  },
  {
   "cell_type": "code",
   "execution_count": 121,
   "metadata": {},
   "outputs": [
    {
     "name": "stdout",
     "output_type": "stream",
     "text": [
      "[0.5   0.513 0.541 0.667 0.678 0.702]\n",
      "[0.5   0.513 0.541 0.667 0.678 0.702]\n",
      "\n"
     ]
    }
   ],
   "source": [
    "df = {'movieid': [], 'id': [], 'fscore': []}\n",
    "df2 = {'movieid': [], 'id': [], 'fscore': []}\n",
    "\n",
    "idx = 2\n",
    "for mname in np.array(list(f_selected_gradients.keys()))[[3,6]]:\n",
    "    for _id in f_selected_gradients[mname]:\n",
    "        df['id'] += [int(_id[1:])]\n",
    "        df['fscore'] += [f_selected_gradients[mname][_id][idx]]\n",
    "        df['movieid'] += [mname]\n",
    "        \n",
    "        df2['id'] += [int(_id[1:])]\n",
    "        df2['fscore'] += [full_movie_grads[mname][_id][idx]]\n",
    "        df2['movieid'] += [mname]        \n",
    "\n",
    "df = pd.DataFrame.from_dict(df)\n",
    "df2 = pd.DataFrame.from_dict(df2)\n",
    "\n",
    "icc = pingouin.intraclass_corr(data=df, targets='id', raters='movieid', ratings='fscore')\n",
    "print(np.round(list(icc['ICC']),3))\n",
    "icc2 = pingouin.intraclass_corr(data=df2, targets='id', raters='movieid', ratings='fscore')\n",
    "print(np.round(list(icc2['ICC']),3))\n",
    "print()"
   ]
  },
  {
   "cell_type": "code",
   "execution_count": 110,
   "metadata": {},
   "outputs": [],
   "source": [
    "for idx in range(0,414):\n",
    "    df = {'movieid': [], 'id': [], 'fscore': []}\n",
    "    df2 = {'movieid': [], 'id': [], 'fscore': []}\n",
    "    for mname in f_selected_gradients:\n",
    "        for _id in f_selected_gradients[mname]:\n",
    "            df['id'] += [int(_id[1:])]\n",
    "            df['fscore'] += [f_selected_gradients[mname][_id][idx]]\n",
    "            df['movieid'] += [mname]\n",
    "\n",
    "            df2['id'] += [int(_id[1:])]\n",
    "            df2['fscore'] += [full_movie_grads[mname][_id][idx]]\n",
    "            df2['movieid'] += [mname]        \n",
    "\n",
    "    df = pd.DataFrame.from_dict(df)\n",
    "    df2 = pd.DataFrame.from_dict(df2)\n",
    "\n",
    "    print('vertex {}'.format(idx))\n",
    "    icc = pingouin.intraclass_corr(data=df, targets='id', raters='movieid', ratings='fscore')\n",
    "    print(np.round(list(icc['ICC']),3))\n",
    "    icc2 = pingouin.intraclass_corr(data=df2, targets='movieid', raters='id', ratings='fscore')\n",
    "    print(np.round(list(icc2['ICC']),3))"
   ]
  },
  {
   "cell_type": "code",
   "execution_count": null,
   "metadata": {},
   "outputs": [],
   "source": []
  }
 ],
 "metadata": {
  "kernelspec": {
   "display_name": "Python 3 (ipykernel)",
   "language": "python",
   "name": "python3"
  },
  "language_info": {
   "codemirror_mode": {
    "name": "ipython",
    "version": 3
   },
   "file_extension": ".py",
   "mimetype": "text/x-python",
   "name": "python",
   "nbconvert_exporter": "python",
   "pygments_lexer": "ipython3",
   "version": "3.8.13"
  },
  "vscode": {
   "interpreter": {
    "hash": "94c5cdb22f2f390cd0f01b98376cf3ee1e72ab00c7efa101fa5d637d1d6155d1"
   }
  }
 },
 "nbformat": 4,
 "nbformat_minor": 2
}
