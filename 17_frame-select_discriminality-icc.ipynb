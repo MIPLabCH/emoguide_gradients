{
 "cells": [
  {
   "cell_type": "markdown",
   "metadata": {},
   "source": [
    "# 17. Frame Selected Discriminality and ICC"
   ]
  },
  {
   "cell_type": "code",
   "execution_count": 1,
   "metadata": {},
   "outputs": [],
   "source": [
    "from src import *"
   ]
  },
  {
   "cell_type": "code",
   "execution_count": 2,
   "metadata": {},
   "outputs": [],
   "source": [
    "import pingouin"
   ]
  },
  {
   "cell_type": "markdown",
   "metadata": {},
   "source": [
    "## Description\n",
    "\n",
    "We evaluate frame selected's discriminality and ICC values. \n",
    "\n",
    "GOAL: Compute frame selected's discriminality and ICC values. "
   ]
  },
  {
   "cell_type": "markdown",
   "metadata": {},
   "source": [
    "## Table of Contents\n",
    "- [Frame selected and discrim / ICC](#comparison)"
   ]
  },
  {
   "cell_type": "markdown",
   "metadata": {},
   "source": [
    "<a class=\"anchor\" id=\"comparison\"></a>\n",
    "## Frame selected (by emotion) gradients"
   ]
  },
  {
   "cell_type": "code",
   "execution_count": 3,
   "metadata": {},
   "outputs": [],
   "source": [
    "# Params\n",
    "embedding  = \"dm\" # diffusion map\n",
    "aff_kernel = \"pearson\" #affinity matrix kernel\n",
    "align_meth = \"procrustes\"\n",
    "n_iter     = 10 # procrustes align number of iteration\n",
    "nb_comp    = 3\n",
    "rs         = 99\n",
    "\n",
    "D = lambda x,y: ((x-y)**2).sum(axis=1)"
   ]
  },
  {
   "cell_type": "markdown",
   "metadata": {},
   "source": [
    "Load frame selected and full movie gradients (individual level)"
   ]
  },
  {
   "cell_type": "code",
   "execution_count": 4,
   "metadata": {},
   "outputs": [],
   "source": [
    "total_series = load('./data/fmri_414_series.pkl')\n",
    "f_series = load('./resources/treshed_series.pkl')\n",
    "\n",
    "# del fselect_series['Rest']\n",
    "del total_series['Rest']"
   ]
  },
  {
   "cell_type": "code",
   "execution_count": 5,
   "metadata": {},
   "outputs": [],
   "source": [
    "fselected_series = f_series[1][(50, 100)]"
   ]
  },
  {
   "cell_type": "code",
   "execution_count": 6,
   "metadata": {},
   "outputs": [],
   "source": [
    "# compute threshed picked timeseries of same length\n",
    "f_selected_gradients = {k:{} for k in fselected_series}\n",
    "\n",
    "for mname in fselected_series:\n",
    "    tmp_dict = fselected_series[mname]\n",
    "    \n",
    "    for _id in tmp_dict:\n",
    "        tmp_series = tmp_dict[_id]\n",
    "        fc_selects = FC(tmp_series)\n",
    "        g_selects = GradientMaps(n_components=nb_comp, approach=embedding, \n",
    "                            kernel=aff_kernel, random_state=rs)\n",
    "        g_selects.fit(fc_selects)\n",
    "        grad = g_selects.gradients_\n",
    "        fscore = D(grad.mean(axis=0), grad)\n",
    "        f_selected_gradients[mname][_id] = fscore"
   ]
  },
  {
   "cell_type": "code",
   "execution_count": 7,
   "metadata": {},
   "outputs": [],
   "source": [
    "# compute randomly picked timeseries of same length\n",
    "np.random.seed(19)\n",
    "full_movie_grads = {k:{} for k in fselected_series}\n",
    "\n",
    "for mname in fselected_series:\n",
    "    perc_left = fselected_series[mname]['S15'].shape[0]\n",
    "    tmp_dict = total_series[mname]\n",
    "    \n",
    "    for _id in tmp_dict:\n",
    "        tmp_series = tmp_dict[_id]\n",
    "        tmp_index = np.random.choice(np.arange(len(tmp_series)), perc_left,replace=False)\n",
    "        tmp_series = tmp_series[tmp_index]\n",
    "        \n",
    "        fc_selects = FC(tmp_series)\n",
    "        g_selects = GradientMaps(n_components=nb_comp, approach=embedding, \n",
    "                            kernel=aff_kernel, random_state=rs)\n",
    "        g_selects.fit(fc_selects)\n",
    "        grad = g_selects.gradients_\n",
    "        fscore = D(grad.mean(axis=0), grad)\n",
    "        full_movie_grads[mname][_id] = fscore        "
   ]
  },
  {
   "cell_type": "markdown",
   "metadata": {},
   "source": [
    "Compute ICC across movies using class as the ID"
   ]
  },
  {
   "cell_type": "code",
   "execution_count": 8,
   "metadata": {},
   "outputs": [
    {
     "name": "stdout",
     "output_type": "stream",
     "text": [
      "[0.17  0.174 0.186 0.741 0.746 0.762]\n",
      "[0.249 0.253 0.273 0.823 0.826 0.84 ]\n"
     ]
    }
   ],
   "source": [
    "df = {'movieid': [], 'id': [], 'fscore': []}\n",
    "df2 = {'movieid': [], 'id': [], 'fscore': []}\n",
    "\n",
    "idx = 0\n",
    "for mname in np.array(list(f_selected_gradients.keys())):\n",
    "    for _id in f_selected_gradients[mname]:\n",
    "        df['id'] += [int(_id[1:])]\n",
    "        df['fscore'] += [f_selected_gradients[mname][_id][idx]]\n",
    "        df['movieid'] += [mname]\n",
    "        \n",
    "        df2['id'] += [int(_id[1:])]\n",
    "        df2['fscore'] += [full_movie_grads[mname][_id][idx]]\n",
    "        df2['movieid'] += [mname]        \n",
    "\n",
    "df = pd.DataFrame.from_dict(df)\n",
    "df2 = pd.DataFrame.from_dict(df2)\n",
    "\n",
    "icc = pingouin.intraclass_corr(data=df, targets='id', raters='movieid', ratings='fscore')\n",
    "print(np.round(list(icc['ICC']),3))\n",
    "icc2 = pingouin.intraclass_corr(data=df2, targets='id', raters='movieid', ratings='fscore')\n",
    "print(np.round(list(icc2['ICC']),3))"
   ]
  },
  {
   "cell_type": "code",
   "execution_count": 13,
   "metadata": {},
   "outputs": [
    {
     "name": "stdout",
     "output_type": "stream",
     "text": [
      "vertex 0\n",
      "[0.206 0.211 0.23  0.784 0.789 0.807]\n",
      "[0.075 0.083 0.113 0.709 0.731 0.793]\n",
      "vertex 1\n",
      "[0.121 0.124 0.131 0.658 0.665 0.678]\n",
      "[0.052 0.056 0.065 0.62  0.641 0.677]\n",
      "vertex 2\n",
      "[0.296 0.3   0.327 0.855 0.857 0.872]\n",
      "[0.051 0.062 0.092 0.619 0.664 0.753]\n",
      "vertex 3\n",
      "[0.173 0.177 0.19  0.745 0.75  0.766]\n",
      "[0.039 0.047 0.062 0.551 0.597 0.664]\n",
      "vertex 4\n",
      "[0.263 0.267 0.289 0.833 0.836 0.85 ]\n",
      "[0.04  0.05  0.073 0.553 0.611 0.703]\n",
      "vertex 5\n",
      "[0.312 0.316 0.345 0.864 0.866 0.881]\n",
      "[0.045 0.056 0.087 0.586 0.642 0.741]\n",
      "vertex 6\n",
      "[0.208 0.21  0.217 0.786 0.788 0.795]\n",
      "[0.025 0.032 0.041 0.431 0.497 0.561]\n",
      "vertex 7\n",
      "[0.33  0.332 0.347 0.873 0.875 0.882]\n",
      "[0.012 0.024 0.037 0.272 0.423 0.534]\n",
      "vertex 8\n",
      "[0.323 0.327 0.355 0.87  0.872 0.885]\n",
      "[0.038 0.05  0.081 0.545 0.615 0.725]\n",
      "vertex 9\n",
      "[0.199 0.203 0.218 0.776 0.781 0.796]\n",
      "[0.043 0.052 0.072 0.574 0.622 0.701]\n",
      "vertex 10\n",
      "[0.28  0.283 0.304 0.845 0.847 0.859]\n",
      "[0.036 0.047 0.072 0.53  0.598 0.7  ]\n",
      "vertex 11\n",
      "[0.303 0.307 0.337 0.859 0.861 0.877]\n",
      "[0.064 0.074 0.109 0.672 0.706 0.786]\n",
      "vertex 12\n",
      "[0.22  0.223 0.237 0.798 0.801 0.813]\n",
      "[0.051 0.06  0.086 0.617 0.658 0.737]\n",
      "vertex 13\n",
      "[0.266 0.27  0.29  0.835 0.838 0.851]\n",
      "[0.038 0.048 0.069 0.542 0.602 0.691]\n",
      "vertex 14\n",
      "[0.074 0.074 0.074 0.528 0.528 0.528]\n",
      "[ 0.    -0.    -0.     0.    -0.002 -0.002]\n",
      "vertex 15\n",
      "[0.21  0.214 0.233 0.788 0.793 0.81 ]\n",
      "[0.059 0.067 0.092 0.653 0.684 0.753]\n",
      "vertex 16\n"
     ]
    },
    {
     "name": "stderr",
     "output_type": "stream",
     "text": [
      "\n",
      "KeyboardInterrupt\n",
      "\n"
     ]
    }
   ],
   "source": [
    "for idx in range(0,414):\n",
    "    df = {'movieid': [], 'id': [], 'fscore': []}\n",
    "    df2 = {'movieid': [], 'id': [], 'fscore': []}\n",
    "    for mname in f_selected_gradients:\n",
    "        for _id in f_selected_gradients[mname]:\n",
    "            df['id'] += [int(_id[1:])]\n",
    "            df['fscore'] += [f_selected_gradients[mname][_id][idx]]\n",
    "            df['movieid'] += [mname]\n",
    "\n",
    "            df2['id'] += [int(_id[1:])]\n",
    "            df2['fscore'] += [full_movie_grads[mname][_id][idx]]\n",
    "            df2['movieid'] += [mname]        \n",
    "\n",
    "    df = pd.DataFrame.from_dict(df)\n",
    "    df2 = pd.DataFrame.from_dict(df2)\n",
    "\n",
    "    print('vertex {}'.format(idx))\n",
    "    icc = pingouin.intraclass_corr(data=df, targets='id', raters='movieid', ratings='fscore')\n",
    "    print(np.round(list(icc['ICC']),3))\n",
    "    icc2 = pingouin.intraclass_corr(data=df2, targets='movieid', raters='id', ratings='fscore')\n",
    "    print(np.round(list(icc2['ICC']),3))"
   ]
  },
  {
   "cell_type": "code",
   "execution_count": null,
   "metadata": {},
   "outputs": [],
   "source": []
  }
 ],
 "metadata": {
  "kernelspec": {
   "display_name": "Python 3 (ipykernel)",
   "language": "python",
   "name": "python3"
  },
  "language_info": {
   "codemirror_mode": {
    "name": "ipython",
    "version": 3
   },
   "file_extension": ".py",
   "mimetype": "text/x-python",
   "name": "python",
   "nbconvert_exporter": "python",
   "pygments_lexer": "ipython3",
   "version": "3.8.13"
  },
  "vscode": {
   "interpreter": {
    "hash": "94c5cdb22f2f390cd0f01b98376cf3ee1e72ab00c7efa101fa5d637d1d6155d1"
   }
  }
 },
 "nbformat": 4,
 "nbformat_minor": 2
}
